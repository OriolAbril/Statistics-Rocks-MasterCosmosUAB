{
 "cells": [
  {
   "cell_type": "markdown",
   "metadata": {},
   "source": [
    "Gibbs-Sampler:"
   ]
  },
  {
   "cell_type": "markdown",
   "metadata": {},
   "source": [
    "Sea $D=(x_i,y_i)_{i=1,..,N}$ una muestra de una distribucion gaussiana 2D. Sean $\\mu_x$, $\\mu_y$, $\\sigma_x$, $\\sigma_y$ y $\\rho$ las correspondientes medias, desviaciones estandar y el coeficiente de correlacion.\n",
    "\n",
    "Por el ejercicio 3.II sabemos que el posterior es:\n",
    "\n",
    "$$P(\\mu_x,\\mu_y|D)=\\frac{c}{(2\\pi\\sigma_x\\sigma_y\\sqrt{1-\\rho^2})^N}e^{-\\frac{1}{2}\\sum_{i=1}^N{A_i}}$$\n",
    "\n",
    "Donde $A_i$ viene dada por:\n",
    "\n",
    "$$A_i=\\frac{(x_i-\\mu_x)^2}{\\sigma_x^2(1-\\rho^2)}+\\frac{(y_i-\\mu_y)^2}{\\sigma_y^2(1-\\rho^2)}-\\frac{2\\rho}{\\sigma_x\\sigma_y(1-\\rho^2)}(y_i-\\mu_y)(x_i-\\mu_x)$$\n",
    "\n",
    "Desarrollando $A_i$ se llega a que:\n",
    "\n",
    "$$A_i=\\frac{x^2_i+\\mu_x^2-2\\mu_x x_i}{\\sigma_x^2(1-\\rho^2)}+\\frac{(y_i-\\mu_y)^2}{\\sigma_y^2(1-\\rho^2)}-\\frac{2\\rho}{\\sigma_x\\sigma_y(1-\\rho^2)}x_i y_i+\\frac{2\\rho}{\\sigma_x\\sigma_y(1-\\rho^2)}y_i\\mu_x+\\frac{2\\rho}{\\sigma_x\\sigma_y(1-\\rho^2)}x_i\\mu_y-\\frac{2\\rho}{\\sigma_x\\sigma_y(1-\\rho^2)}\\mu_x\\mu_y$$\n",
    "\n",
    "Por lo tanto se tiene que:\n",
    "\n",
    "$$P(\\mu_x | \\mu_y;D)\\propto \\exp\\bigg(-\\frac{1}{2}\\sum_{i=1}^N\\Big(\\frac{\\mu_x^2-2\\mu_x x_i}{\\sigma_x^2(1-\\rho^2)}+\\frac{2\\rho}{\\sigma_x\\sigma_y(1-\\rho^2)}y_i\\mu_x-\\frac{2\\rho}{\\sigma_x\\sigma_y(1-\\rho^2)}\\mu_x\\mu_y\\Big)\\bigg)$$\n",
    "\n",
    "Esto es debido a que $P(\\mu_x | \\mu_y;D)$ es la probabilidad de obtener $\\mu_x$ cuando $\\mu_y$ esta FIJO, por lo tanto cualquier termino donde no haya un $\\mu_x$ sera constante."
   ]
  },
  {
   "cell_type": "markdown",
   "metadata": {},
   "source": [
    "Desarrollando aun mas esta expresion\n",
    "\n",
    "$$P(\\mu_x | \\mu_y;D)\\propto \\exp\\bigg(-\\frac{1}{2}\\sum_{i=1}^N{\\frac{\\mu_x^2\\sigma_y-2\\mu_x x_i\\sigma_y+2\\rho\\sigma_x\\mu_x(y_i-\\mu_y)}{\\sigma_x^2\\sigma_y(1-\\rho^2)}}\\bigg)=\\exp\\bigg(-\\frac{1}{2}\\sum_{i=1}^N{\\frac{\\mu_x^2-\\mu_x\\big(2x_i-2\\rho\\frac{\\sigma_x}{\\sigma_y}(y_i-\\mu_y)\\big)}{\\sigma_x^2(1-\\rho^2)}}\\bigg)$$\n",
    "\n",
    "Entonces, ya que $\\mu_j$ (j=x,y) no depende del sumatorio se tiene que:\n",
    "\n",
    "$$\\sum_{i=1}^N{\\Big(\\mu_x^2-2\\mu_x\\big(x_i-\\rho\\frac{\\sigma_x}{\\sigma_x}(y_i-\\mu_y)\\big)\\Big)}=\\mu_x^2 N-2\\mu_x\\bigg(\\sum_{i=1}^N{x_i}-\\rho\\frac{\\sigma_x}{\\sigma_y}\\Big(\\sum_{i=1}^N{y_i}-N\\mu_y\\Big)\\bigg)=N\\Big(\\mu_x^2-2\\mu_x\\big(\\frac{1}{N}\\sum_{i=1}^N{x_i}-\\rho\\frac{\\sigma_x}{\\sigma_y}(\\frac{1}{N}\\sum_{i=1}^N{y_i}-\\mu_y)\\big)\\Big)$$"
   ]
  },
  {
   "cell_type": "markdown",
   "metadata": {},
   "source": [
    "Definiendo las medias muestrales como $$\\bar{x}=\\frac{1}{N}\\sum_{i=1}^N{x}_i \\quad ; \\quad \n",
    "\\bar{y}=\\frac{1}{N}\\sum_{i=1}^N{y}_i$$\n",
    "Se obtiene la expresion:\n",
    "$$N\\Big(\\mu_x^2-2\\mu_x\\big(\\bar{x}-\\rho\\frac{\\sigma_x}{\\sigma_y}(\\bar{y}-\\mu_y)\\big)\\Big)$$\n",
    "Y por lo tanto:\n",
    "$$P(\\mu_x | \\mu_y;D)\\propto \\exp\\bigg(-\\frac{N}{2\\sigma_x^2(1-\\rho^2)}\\Big(\\mu_x^2-2\\mu_x\\big(\\bar{x}-\\rho\\frac{\\sigma_x}{\\sigma_y}(\\bar{y}-\\mu_y)\\big)\\Big)\\bigg)$$"
   ]
  },
  {
   "cell_type": "markdown",
   "metadata": {},
   "source": [
    "Sumando y restando el termino $\\big(\\bar{x}-\\rho\\frac{\\sigma_x}{\\sigma_y}(\\bar{y}-\\mu_y)\\big)^2$:\n",
    "\n",
    "$$P(\\mu_x | \\mu_y;D)\\propto \\exp\\bigg(-\\frac{N}{2\\sigma_x^2(1-\\rho^2)}\\Big(\\mu_x^2-2\\mu_x\\big(\\bar{x}-\\rho\\frac{\\sigma_x}{\\sigma_y}(\\bar{y}-\\mu_y)\\big)+\\big(\\bar{x}-\\rho\\frac{\\sigma_x}{\\sigma_y}(\\bar{y}-\\mu_y)\\big)^2-\\big(\\bar{x}-\\rho\\frac{\\sigma_x}{\\sigma_y}(\\bar{y}-\\mu_y)\\big)^2\\Big)\\bigg)$$"
   ]
  },
  {
   "cell_type": "markdown",
   "metadata": {},
   "source": [
    "Y haciendo cuadrados:\n",
    "$$P(\\mu_x | \\mu_y;D)\\propto \\exp\\Bigg(-\\frac{N}{2\\sigma_x^2(1-\\rho^2)}\\bigg(\\Big(\\mu_x-\\big(2\\bar{x}-2\\rho\\frac{\\sigma_x}{\\sigma_y}(\\bar{y}-\\mu_y)\\big)\\Big)^2-\\big(\\bar{x}-\\rho\\frac{\\sigma_x}{\\sigma_y}(\\bar{y}-\\mu_y)\\big)^2\\bigg)\\Bigg)\n",
    "\\propto \\exp\\bigg(-\\frac{\\Big(\\mu_x-\\big(\\bar{x}-\\rho\\frac{\\sigma_x}{\\sigma_y}(\\bar{y}-\\mu_y)\\big)\\Big)^2}{2\\frac{\\sigma_x^2(1-\\rho^2)}{N}}\\bigg)$$\n",
    "\n",
    "Que se corresponde con la forma de una distribucion normal con media $\\mu=\\bar{x}-\\rho\\frac{\\sigma_x}{\\sigma_y}(\\bar{y}-\\mu_y)$ y desviacion estandar $\\sigma=\\frac{\\sigma_x\\sqrt{1-\\rho^2}}{\\sqrt{N}}$. \n",
    "\n",
    "Se concluye que:\n",
    "$$P(\\mu_x | \\mu_y;D)\\equiv \\mathcal{N}\\Big(\\bar{x}-\\rho\\frac{\\sigma_x}{\\sigma_y}(\\bar{y}-\\mu_y),\\frac{\\sigma_x\\sqrt{1-\\rho^2}}{\\sqrt{N}}\\Big)$$\n",
    "$$P(\\mu_y | \\mu_x;D)\\equiv \\mathcal{N}\\Big(\\bar{y}-\\rho\\frac{\\sigma_y}{\\sigma_x}(\\bar{x}-\\mu_x),\\frac{\\sigma_y\\sqrt{1-\\rho^2}}{\\sqrt{N}}\\Big)$$\n",
    "Donde la segunda probabilidad condicionada se obtiene directamente debido a la simetria que existe entre $\\mu_x$ y $\\mu_y$ en la ecuacion original."
   ]
  },
  {
   "cell_type": "code",
   "execution_count": 2,
   "metadata": {
    "collapsed": true
   },
   "outputs": [],
   "source": [
    "%matplotlib inline\n",
    "import numpy as np\n",
    "import math\n",
    "import scipy.stats as stat # extra statistical functions (the basic are included in numpy)\n",
    "import scipy.optimize as opt # optimization and root finding package \n",
    "import scipy.misc as msc\n",
    "import scipy.special as spc\n",
    "import matplotlib.pyplot as plt"
   ]
  },
  {
   "cell_type": "code",
   "execution_count": 3,
   "metadata": {},
   "outputs": [],
   "source": [
    "N_3I = 10**4\n",
    "mu1 = 2\n",
    "mu2 = 1\n",
    "sigma1 = 1\n",
    "sigma2 = 2\n",
    "rho = 0.80\n",
    "\n",
    "y1 = np.random.normal(size=N_3I)\n",
    "y2 = np.random.normal(size=N_3I)\n",
    "\n",
    "x1 = mu1 + sigma1*y1\n",
    "x2 = mu2 + rho*sigma2*y1 + np.sqrt(1-rho**2)*sigma2*y2\n",
    "D = np.transpose(np.array([x1,x2]))\n",
    "\n",
    "Mean1=np.mean(D[:,0])\n",
    "Mean2=np.mean(D[:,1])\n",
    "\n"
   ]
  },
  {
   "cell_type": "code",
   "execution_count": 157,
   "metadata": {},
   "outputs": [
    {
     "name": "stdout",
     "output_type": "stream",
     "text": [
      "Las medias muestrales son\n",
      "1.99758902456 0.995554765082\n",
      "Las desviaciones estandar son\n",
      "0.0100175542603 0.0199419979559\n"
     ]
    }
   ],
   "source": [
    "N = 10**4\n",
    "\n",
    "Sig1=sigma1*np.sqrt(1-rho**2)/np.sqrt(len(D))\n",
    "Sig2=sigma2*np.sqrt(1-rho**2)/np.sqrt(len(D))\n",
    "\n",
    "sample = np.zeros((2,N+1))\n",
    "\n",
    "D1=Mean1-rho*sigma1/sigma2*Mean2\n",
    "D2=Mean2-rho*sigma2/sigma1*Mean1\n",
    "\n",
    "for i in range(N):\n",
    "    sample[0,i+1] = np.random.normal(D1+rho*sigma1/sigma2*sample[1,i], Sig1)\n",
    "    sample[1,i+1] = np.random.normal(D2+rho*sigma2/sigma1*sample[0,i+1], Sig2)\n",
    "    \n",
    "SampleMean1=np.mean(sample[0,50:])\n",
    "SampleMean2=np.mean(sample[1,50:])\n",
    "print('Las medias muestrales son')\n",
    "print(SampleMean1, SampleMean2)\n",
    "\n",
    "SampleStd1=np.std(sample[0,50:])\n",
    "SampleStd2=np.std(sample[1,50:])\n",
    "print('Las desviaciones estandar son')\n",
    "print(SampleStd1, SampleStd2)"
   ]
  },
  {
   "cell_type": "code",
   "execution_count": 158,
   "metadata": {
    "scrolled": true
   },
   "outputs": [
    {
     "data": {
      "text/plain": [
       "[<matplotlib.lines.Line2D at 0x28127b079e8>]"
      ]
     },
     "execution_count": 158,
     "metadata": {},
     "output_type": "execute_result"
    },
    {
     "data": {
      "image/png": "[encoded data removed]",
      "text/plain": [
       "<matplotlib.figure.Figure at 0x28127ae0470>"
      ]
     },
     "metadata": {},
     "output_type": "display_data"
    }
   ],
   "source": [
    "plt.plot(sample[0,:],sample[1,:],'.')"
   ]
  },
  {
   "cell_type": "markdown",
   "metadata": {},
   "source": [
    ":D Exito. Os buscais la vida con ponerlo en python 2"
   ]
  },
  {
   "cell_type": "code",
   "execution_count": null,
   "metadata": {
    "collapsed": true
   },
   "outputs": [],
   "source": []
  }
 ],
 "metadata": {
  "kernelspec": {
   "display_name": "Python 2",
   "language": "python",
   "name": "python2"
  },
  "language_info": {
   "codemirror_mode": {
    "name": "ipython",
    "version": 2
   },
   "file_extension": ".py",
   "mimetype": "text/x-python",
   "name": "python",
   "nbconvert_exporter": "python",
   "pygments_lexer": "ipython2",
   "version": "2.7.14"
  }
 },
 "nbformat": 4,
 "nbformat_minor": 2
}
