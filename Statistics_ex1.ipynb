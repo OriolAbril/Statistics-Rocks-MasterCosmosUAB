{
 "cells": [
  {
   "cell_type": "markdown",
   "metadata": {},
   "source": [
    "# Statistics and Probability\n",
    "## First Block\n",
    "\n",
    "We have the following p.d.f. $\\frac{d\\Gamma}{d\\cos\\theta}$ with a parameter $P_{\\mu} \\in [-1,1]$\n",
    "\n",
    "$$\n",
    "\\frac{d\\Gamma}{d\\cos\\theta}=\\frac{1}{2}\\big(1-\\frac{1}{3}P_{\\mu}\\cos\\theta\\big)\n",
    "$$\n",
    "\n",
    "The variable $\\theta$ represents the angle between the muon and electron polarizations, thus $\\theta \\in [-\\pi,0]$ which means that $\\cos \\theta \\in [-1,1]$. It can be checked that this function fulfills all the conditions in order to be a p.d.f. \n",
    "\n",
    "#### 1. Positive Semi-Defined Function\n",
    "Both $P_{\\mu}$ and $\\cos \\theta$ are constrained in the interval $[-1,1]$. Therefore:\n",
    "\n",
    "\\begin{eqnarray}\n",
    "\\frac{1}{2}\\big(1-\\frac{1}{3}\\big) \\leqslant & \\frac{1}{2}\\big(1-\\frac{1}{3}P_{\\mu}\\cos\\theta\\big) & \\leqslant \\frac{1}{2}\\big(1-\\frac{-1}{3}\\big) \\\\\n",
    "\\frac{1}{3} \\leqslant & \\frac{1}{2}\\big(1-\\frac{1}{3}P_{\\mu}\\cos\\theta\\big) & \\leqslant \\frac{2}{3}\n",
    "\\end{eqnarray}\n",
    "\n",
    "\n",
    "#### 2. Normalized Function\n",
    "To simplify the calculations, we will use $\\cos \\theta$ as our variable. \n",
    "\n",
    "\\begin{eqnarray}\n",
    "\\int_{-1}^{1} \\frac{1}{2}\\big(1-\\frac{1}{3}P_{\\mu}\\cos\\theta\\big) d\\cos\\theta = \\frac{1}{2}\\int_{-1}^{1} d\\cos\\theta -\\frac{1}{6}P_{\\mu}\\int_{-1}^{1} \\cos\\theta d\\cos\\theta = \\Big[\\frac{1}{2}\\cos\\theta-\\frac{1}{12}P_{\\mu}\\cos^2\\theta \\Big]_{-1}^{1}=\\frac{1}{2}(1-(-1))-\\frac{1}{12}P_{\\mu}(1-(-1)^2)=1\n",
    "\\end{eqnarray}\n"
   ]
  },
  {
   "cell_type": "markdown",
   "metadata": {},
   "source": [
    "#### 3. Plot of the PDF\n",
    "Let's now plot the normalized differential probability density function $\\frac{d\\Gamma}{d\\cos\\theta}$. First, we will initialize several Python libraries which we be useful during this problem set. "
   ]
  },
  {
   "cell_type": "code",
   "execution_count": 1,
   "metadata": {
    "collapsed": true
   },
   "outputs": [],
   "source": [
    "# sets the plots to be embedded in the notebook\n",
    "%matplotlib inline \n",
    "\n",
    "# Import useful python libraries \n",
    "import numpy as np # library to work with arrays\n",
    "import matplotlib.pyplot as plt # plotting library (all weird commands starting with plt., ax., fig. are matplotlib\n",
    "                                # they are not important, the define plots and set labels, axis...)\n",
    "import random # (pseudo-)random numbers generation\n",
    "import scipy.stats as stat # extra statistical functions (the basic are included in numpy)"
   ]
  },
  {
   "cell_type": "markdown",
   "metadata": {},
   "source": [
    "Define the $\\frac{d\\Gamma}{d\\cos\\theta}$ function, using the angle $\\theta$ and the muon polarization $P_{\\mu}$ as input variables:"
   ]
  },
  {
   "cell_type": "code",
   "execution_count": 2,
   "metadata": {
    "collapsed": true
   },
   "outputs": [],
   "source": [
    "def gamma(cost,Pmu):\n",
    "    dg=.5*(1-Pmu*cost/3)\n",
    "    return dg"
   ]
  },
  {
   "cell_type": "markdown",
   "metadata": {},
   "source": [
    "We are now ready to plot the $d\\Gamma$ probability density function."
   ]
  },
  {
   "cell_type": "code",
   "execution_count": 3,
   "metadata": {
    "collapsed": false
   },
   "outputs": [
    {
     "data": {
      "text/plain": [
       "<matplotlib.text.Text at 0x108cc0e10>"
      ]
     },
     "execution_count": 3,
     "metadata": {},
     "output_type": "execute_result"
    },
    {
     "data": {
      "image/png": "[encoded data removed]",
      "text/plain": [
       "<matplotlib.figure.Figure at 0x108c86890>"
      ]
     },
     "metadata": {},
     "output_type": "display_data"
    }
   ],
   "source": [
    "# Define parameters\n",
    "Pmu=0.3\n",
    "# Define plot variables\n",
    "cost=np.linspace(-1,1,201)\n",
    "dG=gamma(cost,Pmu)\n",
    "# Plot\n",
    "fig=plt.figure(1)\n",
    "ax=fig.add_subplot(111)\n",
    "ax.plot(cost,dG)\n",
    "ax.set_title('$d\\Gamma$ probability density function')\n",
    "ax.set_xlabel(r'$\\cos\\theta$')\n",
    "ax.set_ylabel('$d\\Gamma$')"
   ]
  },
  {
   "cell_type": "markdown",
   "metadata": {},
   "source": [
    "[Mariona]: I've never really used the ax. command because it increases the \n",
    "complexity of the code quite significantly. I've written below how i'd personally plot the figure, which consists on using the regular plt. command. If you try it out, you'll see we get the same results!: "
   ]
  },
  {
   "cell_type": "code",
   "execution_count": 4,
   "metadata": {
    "collapsed": false
   },
   "outputs": [
    {
     "data": {
      "text/plain": [
       "\"\\nplt.figure(1)\\nplt.plot(cost, dG)\\nplt.title('$d\\\\Gamma$ probability density function')\\nplt.xlabel(r'$\\\\cos\\theta$')\\nplt.ylabel('$d\\\\Gamma$')\\n\""
      ]
     },
     "execution_count": 4,
     "metadata": {},
     "output_type": "execute_result"
    }
   ],
   "source": [
    "'''\n",
    "plt.figure(1)\n",
    "plt.plot(cost, dG)\n",
    "plt.title('$d\\Gamma$ probability density function')\n",
    "plt.xlabel(r'$\\cos\\theta$')\n",
    "plt.ylabel('$d\\Gamma$')\n",
    "'''"
   ]
  },
  {
   "cell_type": "markdown",
   "metadata": {},
   "source": [
    "# 2. Build a Monte Carlo able to generate this PDF \n"
   ]
  },
  {
   "cell_type": "markdown",
   "metadata": {},
   "source": [
    "[Oriol]: Nota sobre python y los bucles: Python es muy bonito y simple, pero se le atragantan un poco los bucles. Por suerte, numpy esta hecho en C, cosa que agiliza muchísimo la ejecución. Tanto en el try-teject como en el inverse function hay una comparación. Teneis que descomentar el timeit para ver la comparación de tiempo y comentarlo para poderlo ejecutar correctamente."
   ]
  },
  {
   "cell_type": "markdown",
   "metadata": {},
   "source": [
    "### Try-Reject p.d.f generation\n",
    "\n",
    "We will construct our Monte Carlo with the Try-Reject method."
   ]
  },
  {
   "cell_type": "markdown",
   "metadata": {},
   "source": [
    "Without using Numpy explicitly:"
   ]
  },
  {
   "cell_type": "code",
   "execution_count": 5,
   "metadata": {
    "collapsed": true
   },
   "outputs": [],
   "source": [
    "#%%timeit # returns the elapsed time when executing the cell, it executes the cell more than once, \n",
    "         # thus, it should only be uncommented when desired\n",
    "# Montecarlo try-reject\n",
    "N=10000000 \n",
    "# Define fmax\n",
    "# The goal is to have the lowest fmax possible in order to increase the efficiency of the try-reject, knowing \n",
    "# the shape of the p.d.f. this can be trivially done, because we know its maximum value must be either at 1 or -1\n",
    "fmax=max(gamma(-1,Pmu),gamma(1,Pmu))\n",
    "\n",
    "Xi1=np.empty(N) # Declaring an array instead of making it grow inside a loop speeds a lot the computation time\n",
    "i=0\n",
    "while i<N:\n",
    "    # 1st step of the try reject, choose a point inside the area [a,b]x[0,fmax]\n",
    "    r=random.random()\n",
    "    x=-1+2*r\n",
    "    y=random.random()*fmax\n",
    "    # 2nd step, check if it is inside the p.d.f. area and save x€[a,b] to Xi1, otherwise, reject it\n",
    "    if gamma(x,Pmu)>=y:\n",
    "        Xi1[i]=x\n",
    "        i+=1"
   ]
  },
  {
   "cell_type": "markdown",
   "metadata": {},
   "source": [
    "Using Numpy:"
   ]
  },
  {
   "cell_type": "code",
   "execution_count": 6,
   "metadata": {
    "collapsed": true
   },
   "outputs": [],
   "source": [
    "#%%timeit\n",
    "N=10000000\n",
    "# 1st step of the try reject, choose a point inside the area [a,b]x[0,fmax]\n",
    "# now, all N desired number are generated at once with numpy, thus, as some of them will be rejected, 2*N \n",
    "# random numbers are generated\n",
    "x=-1+2*np.random.random(2*N)           \n",
    "y=fmax*np.random.random(2*N)\n",
    "# 2nd step, check if it is inside the p.d.f. area and save x€[a,b] to Xi1, otherwise, reject it\n",
    "# in addition, as  2*N were generated in order to be safe and less than N x values will have been rejected\n",
    "# a sample of size N must be chosen in order to compare with the other methods.\n",
    "Xi2=x[y<=gamma(x,Pmu)][:N]"
   ]
  },
  {
   "cell_type": "markdown",
   "metadata": {},
   "source": [
    "Plot the results of the Try-Reject Method:"
   ]
  },
  {
   "cell_type": "code",
   "execution_count": 7,
   "metadata": {
    "collapsed": false
   },
   "outputs": [
    {
     "data": {
      "text/plain": [
       "(0.4, 0.6)"
      ]
     },
     "execution_count": 7,
     "metadata": {},
     "output_type": "execute_result"
    },
    {
     "data": {
      "image/png": "[encoded data removed]",
      "text/plain": [
       "<matplotlib.figure.Figure at 0x108ea9dd0>"
      ]
     },
     "metadata": {},
     "output_type": "display_data"
    }
   ],
   "source": [
    "fig=plt.figure(2)\n",
    "ax=fig.add_subplot(111)\n",
    "ax.hist(Xi1,color='b',normed=1,bins=50,label='Montecarlo p.d.f.')\n",
    "ax.hist(Xi2,color='g',normed=1,bins=50,label='Montecarlo p.d.f.',alpha=0.6)\n",
    "ax.plot(cost,dG,'r--',linewidth=2,label='Theoretical')\n",
    "ax.set_title('Try-reject Monte Carlo generated $d\\Gamma$ p.d.f.')\n",
    "ax.set_xlabel(r'$\\cos\\theta$')\n",
    "ax.set_ylabel('$d\\Gamma$')\n",
    "ax.legend()\n",
    "ax.set_ylim([0.4,0.6])"
   ]
  },
  {
   "cell_type": "markdown",
   "metadata": {},
   "source": [
    "### Inverse function p.d.f. generation\n",
    "To generate a p.d.f via the inverse method we need the inverse of the cumulative function. The cumulative function was found in the first question while checking that the p.d.f. was normalized, thus:\n",
    "\n",
    "$$\n",
    "F(\\cos\\theta)=\\Big[\\frac{1}{2}z-\\frac{1}{12}P_{\\mu}z^2 \\Big]_{-1}^{\\cos\\theta}=\\frac{1}{2}(\\cos\\theta+1)-\\frac{1}{12}P_{\\mu}(\\cos^2\\theta-1) \n",
    "$$\n",
    "\n",
    "$$\n",
    "\\frac{P_{\\mu}}{12}\\cos^2\\theta-\\frac{\\cos\\theta}{2}+r-\\frac{1}{2}-\\frac{P_{\\mu}}{12}=0 \\quad \\rightarrow \\quad F^{-1}(r)=\\cos\\theta=\\frac{3}{P_{\\mu}}\\pm \\frac{6}{P_{\\mu}}\\sqrt{\\frac{1}{4}-\\frac{P_{\\mu}}{3}(r-\\frac{1}{2}-\\frac{P_{\\mu}}{12})}\n",
    "$$"
   ]
  },
  {
   "cell_type": "code",
   "execution_count": 8,
   "metadata": {
    "collapsed": true
   },
   "outputs": [],
   "source": [
    "# Inverse function F^{-1}(r) implemented in Python\n",
    "def Finv(r,Pmu): \n",
    "    # its arguments are:\n",
    "    #     r   : either int, float or np.array. Must be a value between 0 and 1\n",
    "    #     Pmu : either int, float or np.array, its shape must be compatible with r in case of arrays\n",
    "    cost=(3.-6.*np.sqrt(.25-Pmu/3.*(r-.5-Pmu/12)))/Pmu\n",
    "    return cost"
   ]
  },
  {
   "cell_type": "markdown",
   "metadata": {},
   "source": [
    "(without numpy explicitely)"
   ]
  },
  {
   "cell_type": "code",
   "execution_count": 9,
   "metadata": {
    "collapsed": true
   },
   "outputs": [],
   "source": [
    "#%%timeit\n",
    "N=10000000\n",
    "Xinv1=np.empty(N)\n",
    "for i in xrange(N):\n",
    "    r=random.random()\n",
    "    Xinv1[i]=Finv(r,Pmu)"
   ]
  },
  {
   "cell_type": "markdown",
   "metadata": {},
   "source": [
    "(with numpy magic)"
   ]
  },
  {
   "cell_type": "code",
   "execution_count": 10,
   "metadata": {
    "collapsed": true
   },
   "outputs": [],
   "source": [
    "# Montecarlo inverse function\n",
    "def Montecarlo_inv_fun(Pmu,N=1000000):\n",
    "    # its arguments are:\n",
    "    #     Pmu : np.array containing the value or values of Pmu for which the pdf will be generated\n",
    "    # Optional arguments:\n",
    "    #     N   : int, number of values in the pdf sample\n",
    "    m=len(Pmu)\n",
    "    #v.1\n",
    "    PmuV=np.array([Pmu]) #Transform Pmu into an 1xm matrix so that it matches the dimensions of r (Nxm)\n",
    "    r=np.random.random((N,m))\n",
    "    #v.2\n",
    "    #PmuV=np.empty((m,1))\n",
    "    #PmuV[:,0]=Pmu\n",
    "    #r=np.random.random((m,N))\n",
    "    Xinv=Finv(r,PmuV)\n",
    "    return Xinv"
   ]
  },
  {
   "cell_type": "code",
   "execution_count": 11,
   "metadata": {
    "collapsed": false
   },
   "outputs": [],
   "source": [
    "Xinv2=Montecarlo_inv_fun(np.array([Pmu]),10000000)[:,0] \n",
    "# Now, in order to make the function compatible with arrays, Pmu must be reshaped into a np.array and \n",
    "# afterwards, the obtained sample is converted from Nx1 matrix to vector of length N"
   ]
  },
  {
   "cell_type": "markdown",
   "metadata": {},
   "source": [
    "[Oriol] The execution time of the code without using numpy own methods is 18 seconds, whereas knowing numpy reduces it to 0.45 seconds (results with my computer with many things opened)"
   ]
  },
  {
   "cell_type": "code",
   "execution_count": 12,
   "metadata": {
    "collapsed": false
   },
   "outputs": [
    {
     "data": {
      "text/plain": [
       "(0.4, 0.6)"
      ]
     },
     "execution_count": 12,
     "metadata": {},
     "output_type": "execute_result"
    },
    {
     "data": {
      "image/png": "[encoded data removed]",
      "text/plain": [
       "<matplotlib.figure.Figure at 0x108c86ad0>"
      ]
     },
     "metadata": {},
     "output_type": "display_data"
    }
   ],
   "source": [
    "#Plot for the inverse function method\n",
    "fig=plt.figure(2)\n",
    "ax=fig.add_subplot(111)\n",
    "ax.hist(Xinv1,color='b',normed=1,bins=50,label='Montecarlo p.d.f.')\n",
    "ax.hist(Xinv2,color='g',normed=1,bins=50,label='Montecarlo p.d.f.',alpha=0.6)\n",
    "ax.plot(cost,dG,'r--',linewidth=2,label='Theoretical')\n",
    "ax.set_title('Inverse function montecarlo generated $d\\Gamma$ p.d.f.')\n",
    "ax.set_xlabel(r'$\\cos\\theta$')\n",
    "ax.set_ylabel('$d\\Gamma$')\n",
    "ax.legend()\n",
    "ax.set_ylim([0.4,0.6])"
   ]
  },
  {
   "cell_type": "markdown",
   "metadata": {},
   "source": [
    "### Estimate distribution parameters\n",
    "In this section, the rellevant parameters of the p.d.f. will be estimated from the montecarlo generated sample. To be able to compare this values, the theoretical values will also be obtained:\n",
    "\n",
    "$$\n",
    "\\int_{-1}^{1} \\frac{1}{2}\\big(1-\\frac{1}{3}P_{\\mu}\\cos\\theta\\big) \\cos\\theta d\\cos\\theta = \\Big[\\frac{\\cos^2\\theta}{4}-\\frac{P_{\\mu}}{6}\\frac{\\cos^3\\theta}{3}\\Big]_{-1}^{1}=\\frac{-P_{\\mu}}{9}\n",
    "$$"
   ]
  },
  {
   "cell_type": "code",
   "execution_count": 13,
   "metadata": {
    "collapsed": false
   },
   "outputs": [
    {
     "name": "stdout",
     "output_type": "stream",
     "text": [
      "The try-reject montecarlo generated distribution has:\n",
      "\tmean = -0.033137,\n",
      "\tsigma = 0.576543,\n",
      "\tskewness = 0.068607\n",
      "\tand kurtosis = -1.192740\n"
     ]
    }
   ],
   "source": [
    "mu=np.mean(Xinv2)\n",
    "sigma=np.std(Xinv2) # equivalent to np.sqrt(np.var(Xi1))\n",
    "skewness=stat.skew(Xinv2)\n",
    "kurtosis=stat.kurtosis(Xinv2)\n",
    "\n",
    "print 'The try-reject montecarlo generated distribution has:\\n\\tmean = %.6f,\\n\\t\\\n",
    "sigma = %.6f,\\n\\tskewness = %.6f\\n\\tand kurtosis = %.6f' %(mu, sigma, skewness, kurtosis)"
   ]
  },
  {
   "cell_type": "markdown",
   "metadata": {
    "collapsed": true
   },
   "source": [
    "# Part 3\n",
    "The $\\frac{d\\Gamma}{d\\cos\\theta}$ mean depends on the polarisation $P_{\\mu}$ in a simple manner: theoretical mean = -$P_{\\mu}$/9. \n",
    "\n",
    "### 3.1. Show that the Monte Carlo predicts this dependency by changing the value of $P_{\\mu}$"
   ]
  },
  {
   "cell_type": "code",
   "execution_count": 14,
   "metadata": {
    "collapsed": false
   },
   "outputs": [],
   "source": [
    "N=int(1e7)\n",
    "PmuVec=np.linspace(-1,1,30)  # array of Pmu valus for which the pdf sample will be generated\n",
    "X=Montecarlo_inv_fun(PmuVec,N) # call Montecarlo_inv_fun, which returns a matrix, containing N x values\n",
    "# following the pdf of each Pmu in PmuVec\n",
    "mu=np.mean(X,axis=0) # estimate the mean for each Pmu, thus, the result is a vector of the same length as PmuVec \n",
    "muTh=-PmuVec/9. # calculate the theoretical mean for each Pmu"
   ]
  },
  {
   "cell_type": "code",
   "execution_count": 15,
   "metadata": {
    "collapsed": false
   },
   "outputs": [
    {
     "data": {
      "text/plain": [
       "<matplotlib.legend.Legend at 0x118dce2d0>"
      ]
     },
     "execution_count": 15,
     "metadata": {},
     "output_type": "execute_result"
    },
    {
     "data": {
      "image/png": "[encoded data removed]",
      "text/plain": [
       "<matplotlib.figure.Figure at 0x118f42fd0>"
      ]
     },
     "metadata": {},
     "output_type": "display_data"
    }
   ],
   "source": [
    "fig=plt.figure(1)\n",
    "ax=fig.add_subplot(111)\n",
    "ax.plot(PmuVec,mu,'ro',PmuVec,muTh,'b--')\n",
    "ax.set_title('$P_{\\mu}$ p.d.f. dependency')\n",
    "ax.set_xlabel(r'$P_{\\mu}$')\n",
    "ax.set_ylabel('$\\mu$')\n",
    "ax.legend(['Estimated mean','Theoretical mean'])"
   ]
  },
  {
   "cell_type": "markdown",
   "metadata": {},
   "source": [
    "### 3.2. What is the variance of the parameter $P_{\\mu}$? Compute it numerically using Monte Carlo techniques for a given $P_{\\mu}$ value."
   ]
  },
  {
   "cell_type": "markdown",
   "metadata": {},
   "source": [
    "Perform Monte Carlo simulation for a given Pmu value (called \"Pmu_chosen_value\") and sample size. We will obtain a vector $X = \\{x_{1}, x_{2}, ...., x_{N}\\}$"
   ]
  },
  {
   "cell_type": "code",
   "execution_count": 30,
   "metadata": {
    "collapsed": false
   },
   "outputs": [],
   "source": [
    "sample_size = int(1e7)\n",
    "Pmu_chosen_value = 0.5 #Choose a value of Pmu for this exercise\n",
    "vec_length = 50  # Choose the length of the array \"get_PmuVec\"\n",
    "get_PmuVec = np.ones(vec_length)*Pmu_chosen_value  # Create vector with length = 50 filled with a given Pmu value from which the pdf sample will be generated\n",
    "\n",
    "get_Pmus = Montecarlo_inv_fun(get_PmuVec, sample_size) # call Montecarlo_inv_fun, which returns a matrix with dimensions (sample_size X vec_length), containing x values\n",
    "# following the pdf of each Pmu_chosen_value in get_PmuVec"
   ]
  },
  {
   "cell_type": "markdown",
   "metadata": {},
   "source": [
    "Calculate the variance of the estimated Pmu both with the estimated mu and the theoretical mu and compare them."
   ]
  },
  {
   "cell_type": "code",
   "execution_count": 33,
   "metadata": {
    "collapsed": false
   },
   "outputs": [
    {
     "name": "stdout",
     "output_type": "stream",
     "text": [
      "2.00961786377e-06\n",
      "1.99115966808e-06\n"
     ]
    }
   ],
   "source": [
    "estimated_mean = np.mean(get_Pmus, axis=0) #Get estimated mean \n",
    "estimated_Pmu = -9*estimated_mean  # estimate the mean for each Pmu. The result is a vector of the same length as PmuVec \n",
    "variance1 = np.var(estimated_Pmu, ddof = 1) #Estimate the variance of the estimated Pmu. The \"ddof\" is used so that the division is not done as 1/N but as 1/N-1\n",
    "variance2 = (sum((estimated_Pmu-Pmu_chosen_value)**2))/vec_length \n",
    "print variance1 \n",
    "print variance2 "
   ]
  },
  {
   "cell_type": "markdown",
   "metadata": {},
   "source": [
    "We define the variance as: $$Var(X)=E[(x-\\mu)^{2}]$$ \n",
    "\n",
    "With the `sum` command, we are obtaining the variance with: $$\\overline{Var}=\\frac{1}{N}\\sum(P_{i}-\\mu)^{2}$$ where $\\mu$ is the theoretical mean. In this case, we have chosen a specific value for Pmu (Pmu_chosen_value = 0.5), so the theoretical mean will simply correspond to this value. \n",
    "\n",
    "With the `np.var` command, we are calculating the variance with equation: $$\\overline{Var}=\\frac{1}{N-1}\\sum(P_{i}-\\overline{x})$$ \n",
    "\n",
    "where $\\bar{x}$ is the estimated mean, i.e. $\\bar{x}=\\frac{1}{N}\\sum x_{i}$. Note that `np.var` accepts \"delta Degrees of freedom\" (ddof) which refers to the factor $1/N-\\text{ddof}$. We chose $ddof = 1$ so that the division would be as 1/N-1, instead of 1/N.\n",
    "\n",
    "\n",
    " "
   ]
  },
  {
   "cell_type": "markdown",
   "metadata": {},
   "source": [
    "# Part 4\n",
    "Generate a continuous series of N events using the Monte Carlo and compute the mean of the distribution and the estimated $P_{\\mu}$ as 9*mean. \n",
    "\n",
    "### 4.1. Show that the $P_{\\mu}$ tends to the true evalue as predicted by the law of large numbers"
   ]
  },
  {
   "cell_type": "code",
   "execution_count": null,
   "metadata": {
    "collapsed": true
   },
   "outputs": [],
   "source": []
  }
 ],
 "metadata": {
  "anaconda-cloud": {},
  "kernelspec": {
   "display_name": "Python 2",
   "language": "python",
   "name": "python2"
  },
  "language_info": {
   "codemirror_mode": {
    "name": "ipython",
    "version": 2
   },
   "file_extension": ".py",
   "mimetype": "text/x-python",
   "name": "python",
   "nbconvert_exporter": "python",
   "pygments_lexer": "ipython2",
   "version": "2.7.11"
  }
 },
 "nbformat": 4,
 "nbformat_minor": 1
}
