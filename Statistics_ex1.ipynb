{
 "cells": [
  {
   "cell_type": "markdown",
   "metadata": {},
   "source": [
    "# Statistics and Probability\n",
    "## First Block\n",
    "\n",
    "We have the following p.d.f. $\\frac{d\\Gamma}{d\\cos\\theta}$ with a parameter $P_{\\mu} \\in [-1,1]$\n",
    "\n",
    "$$\n",
    "\\frac{d\\Gamma}{d\\cos\\theta}=\\frac{1}{2}\\big(1-\\frac{1}{3}P_{\\mu}\\cos\\theta\\big)\n",
    "$$\n",
    "\n",
    "The variable $\\theta$ represents the angle between the muon and electron polarizations, thus $\\theta \\in [-\\pi,0]$ which means that $\\cos \\theta \\in [-1,1]$. It can be checked that this function fulfills all the conditions in order to be a p.d.f. \n",
    "\n",
    "#### 1. Positive Semi-Defined Function\n",
    "Both $P_{\\mu}$ and $\\cos \\theta$ are constrained in the interval $[-1,1]$. Therefore:\n",
    "\n",
    "\\begin{eqnarray}\n",
    "\\frac{1}{2}\\big(1-\\frac{1}{3}\\big) \\leqslant & \\frac{1}{2}\\big(1-\\frac{1}{3}P_{\\mu}\\cos\\theta\\big) & \\leqslant \\frac{1}{2}\\big(1-\\frac{-1}{3}\\big) \\\\\n",
    "\\frac{1}{3} \\leqslant & \\frac{1}{2}\\big(1-\\frac{1}{3}P_{\\mu}\\cos\\theta\\big) & \\leqslant \\frac{2}{3}\n",
    "\\end{eqnarray}\n",
    "\n",
    "\n",
    "#### 2. Normalized Function\n",
    "To simplify the calculations, we will use $\\cos \\theta$ as our variable. \n",
    "\n",
    "\\begin{eqnarray}\n",
    "\\int_{-1}^{1} \\frac{1}{2}\\big(1-\\frac{1}{3}P_{\\mu}\\cos\\theta\\big) d\\cos\\theta = \\frac{1}{2}\\int_{-1}^{1} d\\cos\\theta -\\frac{1}{6}P_{\\mu}\\int_{-1}^{1} \\cos\\theta d\\cos\\theta = \\Big[\\frac{1}{2}\\cos\\theta-\\frac{1}{12}P_{\\mu}\\cos^2\\theta \\Big]_{-1}^{1}=\\frac{1}{2}(1-(-1))-\\frac{1}{12}P_{\\mu}(1-(-1)^2)=1\n",
    "\\end{eqnarray}\n"
   ]
  },
  {
   "cell_type": "markdown",
   "metadata": {},
   "source": [
    "#### 3. Plot of the PDF\n",
    "Let's now plot the normalized differential probability density function $\\frac{d\\Gamma}{d\\cos\\theta}$. First, we will initialize several Python libraries which we be useful during this problem set. "
   ]
  },
  {
   "cell_type": "code",
   "execution_count": 4,
   "metadata": {},
   "outputs": [],
   "source": [
    "# sets the plots to be embedded in the notebook\n",
    "%matplotlib inline \n",
    "\n",
    "# Import useful python libraries \n",
    "import numpy as np # library to work with arrays\n",
    "import matplotlib.pyplot as plt # plotting library (all weird commands starting with plt., ax., fig. are matplotlib\n",
    "                                # they are not important, the define plots and set labels, axis...)\n",
    "import random # (pseudo-)random numbers generation\n",
    "import scipy.stats as stat # extra statistical functions (the basic are included in numpy)"
   ]
  },
  {
   "cell_type": "markdown",
   "metadata": {},
   "source": [
    "[Mariona]: We could eliminate the \"set different parameters for plots\" section (shown below) for simplification  purposes. You'll see how the code works just as fine without it than with it, and because it's a big chunk   that doesn't really do much, I thought we could get rid of it :) Of course feel free to leave it here if you prefer it! as of now i've commented it with the \"'''\" command so that you can try how the code works w/o this section. let me know what you think! "
   ]
  },
  {
   "cell_type": "code",
   "execution_count": 2,
   "metadata": {},
   "outputs": [
    {
     "data": {
      "text/plain": [
       "\"\\n# Set diferent parameters for plots \\nSIZE=18\\nplt.rc('font', size=SIZE) #controls default text sizes\\nplt.rc('axes', titlesize=SIZE) #fontsize of the axes title\\nplt.rc('axes', labelsize=SIZE) #fontsize of the x any y labels\\nplt.rc('xtick', labelsize=SIZE) #fontsize of the tick labels\\nplt.rc('ytick', labelsize=SIZE) #fontsize of the tick labels\\nplt.rc('legend', fontsize=SIZE) #legend fontsize\\nplt.rc('figure', titlesize=SIZE) #size of the figure title\\nplt.rc('figure', figsize=(12,8)) #size of the figure\\nplt.rc('lines', color='b')\\nplt.rc('axes', prop_cycle=plt.cycler(color=['k','g','r','b','c','m','y'])) # set the plot color cycler\\n\""
      ]
     },
     "execution_count": 2,
     "metadata": {},
     "output_type": "execute_result"
    }
   ],
   "source": [
    "'''\n",
    "# Set diferent parameters for plots \n",
    "SIZE=18\n",
    "plt.rc('font', size=SIZE) #controls default text sizes\n",
    "plt.rc('axes', titlesize=SIZE) #fontsize of the axes title\n",
    "plt.rc('axes', labelsize=SIZE) #fontsize of the x any y labels\n",
    "plt.rc('xtick', labelsize=SIZE) #fontsize of the tick labels\n",
    "plt.rc('ytick', labelsize=SIZE) #fontsize of the tick labels\n",
    "plt.rc('legend', fontsize=SIZE) #legend fontsize\n",
    "plt.rc('figure', titlesize=SIZE) #size of the figure title\n",
    "plt.rc('figure', figsize=(12,8)) #size of the figure\n",
    "plt.rc('lines', color='b')\n",
    "plt.rc('axes', prop_cycle=plt.cycler(color=['k','g','r','b','c','m','y'])) # set the plot color cycler\n",
    "'''"
   ]
  },
  {
   "cell_type": "markdown",
   "metadata": {},
   "source": [
    "Define the $\\frac{d\\Gamma}{d\\cos\\theta}$ function, using the angle $\\theta$ and the muon polarization $P_{\\mu}$ as input variables:"
   ]
  },
  {
   "cell_type": "code",
   "execution_count": 5,
   "metadata": {
    "collapsed": true
   },
   "outputs": [],
   "source": [
    "def gamma(cost,Pmu):\n",
    "    dg=.5*(1-Pmu*cost/3)\n",
    "    return dg"
   ]
  },
  {
   "cell_type": "markdown",
   "metadata": {},
   "source": [
    "We are now ready to plot the $d\\Gamma$ probability density function."
   ]
  },
  {
   "cell_type": "code",
   "execution_count": 6,
   "metadata": {},
   "outputs": [
    {
     "data": {
      "text/plain": [
       "<matplotlib.text.Text at 0xa931860>"
      ]
     },
     "execution_count": 6,
     "metadata": {},
     "output_type": "execute_result"
    },
    {
     "data": {
      "image/png": "[encoded data removed]",
      "text/plain": [
       "<matplotlib.figure.Figure at 0xa89fef0>"
      ]
     },
     "metadata": {},
     "output_type": "display_data"
    }
   ],
   "source": [
    "# Define parameters\n",
    "Pmu=0.3\n",
    "# Define plot variables\n",
    "cost=np.linspace(-1,1,201)\n",
    "dG=gamma(cost,Pmu)\n",
    "# Plot\n",
    "fig=plt.figure(1)\n",
    "ax=fig.add_subplot(111)\n",
    "ax.plot(cost,dG)\n",
    "ax.set_title('$d\\Gamma$ probability density function')\n",
    "ax.set_xlabel(r'$\\cos\\theta$')\n",
    "ax.set_ylabel('$d\\Gamma$')"
   ]
  },
  {
   "cell_type": "markdown",
   "metadata": {},
   "source": [
    "[Mariona]: I've never really used the ax. command because it increases the \n",
    "complexity of the code quite significantly. I've written below how i'd personally plot the figure, which consists on using the regular plt. command. If you try it out, you'll see we get the same results!: "
   ]
  },
  {
   "cell_type": "code",
   "execution_count": 1,
   "metadata": {},
   "outputs": [
    {
     "data": {
      "text/plain": [
       "\"\\nfig = plt.figure(1)\\nplt.plot(cost, dG)\\nplt.title('$d\\\\Gamma$ probability density function')\\nplt.xlabel(r'$\\\\cos\\theta$')\\nplt.ylabel('$d\\\\Gamma$')\\n\""
      ]
     },
     "execution_count": 1,
     "metadata": {},
     "output_type": "execute_result"
    }
   ],
   "source": [
    "'''\n",
    "plt.figure(1)\n",
    "plt.plot(cost, dG)\n",
    "plt.title('$d\\Gamma$ probability density function')\n",
    "plt.xlabel(r'$\\cos\\theta$')\n",
    "plt.ylabel('$d\\Gamma$')\n",
    "'''"
   ]
  },
  {
   "cell_type": "markdown",
   "metadata": {},
   "source": [
    "# 2. Build a Monte Carlo able to generate this PDF \n",
    "\n",
    "[Oriol]: Nota sobre python y los bucles: Python es muy bonito y simple, pero se le atragantan un poco los bucles. Por suerte, numpy esta hecho en C, cosa que agiliza muchísimo la ejecución. Tanto en el try-teject como en el inverse function hay una comparación. Teneis que descomentar el timeit para ver la comparación de tiempo y comentarlo para poderlo ejecutar correctamente.\n",
    "\n",
    "### Try-Reject p.d.f generation\n",
    "\n",
    "We will construct our Monte Carlo with the Try-Reject method."
   ]
  },
  {
   "cell_type": "markdown",
   "metadata": {},
   "source": [
    "(Without using Numpy explicitly):"
   ]
  },
  {
   "cell_type": "code",
   "execution_count": 67,
   "metadata": {},
   "outputs": [],
   "source": [
    "#%%timeit # returns the elapsed time when executing the cell, it executes the cell more than once, \n",
    "         # thus, it should only be uncommented when desired\n",
    "# Montecarlo try-reject\n",
    "N=10000000\n",
    "Xi1=np.empty(N)\n",
    "\n",
    "#define fmax\n",
    "if Pmu>0:\n",
    "    fmax=gamma(-1,Pmu)\n",
    "else:\n",
    "    fmax=gamma(1,Pmu)\n",
    "i=0\n",
    "\n",
    "while i<N:\n",
    "    r=random.random()\n",
    "    x=-1+2*r\n",
    "    y=random.random()*fmax\n",
    "    if gamma(x,Pmu)>=y:\n",
    "        Xi1[i]=x\n",
    "        i+=1"
   ]
  },
  {
   "cell_type": "markdown",
   "metadata": {},
   "source": [
    "Using Numpy:\n",
    "\n",
    "[Mariona]: Numpy simplifica/optimiza muchísimo el código. Yo optaría por hacer esta segunda versión."
   ]
  },
  {
   "cell_type": "code",
   "execution_count": 68,
   "metadata": {},
   "outputs": [],
   "source": [
    "#%%timeit\n",
    "N=10000000\n",
    "x=-1+2*np.random.random(2*N) #notad que aquí genero más numeros aleatorios que en el caso del bucle \n",
    "                             #y aún así és 6 veces más rápido. \n",
    "                            \n",
    "y=fmax*np.random.random(2*N)\n",
    "Xi2=x[y<=gamma(x,Pmu)][:N]"
   ]
  },
  {
   "cell_type": "markdown",
   "metadata": {},
   "source": [
    "Plot the results of the Try-Reject Method:"
   ]
  },
  {
   "cell_type": "code",
   "execution_count": 70,
   "metadata": {},
   "outputs": [
    {
     "data": {
      "text/plain": [
       "(0.4, 0.6)"
      ]
     },
     "execution_count": 70,
     "metadata": {},
     "output_type": "execute_result"
    },
    {
     "data": {
      "image/png": "[encoded data removed]",
      "text/plain": [
       "<matplotlib.figure.Figure at 0x1106524d0>"
      ]
     },
     "metadata": {},
     "output_type": "display_data"
    }
   ],
   "source": [
    "fig=plt.figure(2)\n",
    "ax=fig.add_subplot(111)\n",
    "ax.hist(Xi1,color='b',normed=1,bins=50,label='Montecarlo p.d.f.')\n",
    "ax.hist(Xi2,color='g',normed=1,bins=50,label='Montecarlo p.d.f.',alpha=0.6)\n",
    "ax.plot(cost,dG,'r--',linewidth=2,label='Theoretical')\n",
    "ax.set_title('Try-reject Monte Carlo generated $d\\Gamma$ p.d.f.')\n",
    "ax.set_xlabel(r'$\\cos\\theta$')\n",
    "ax.set_ylabel('$d\\Gamma$')\n",
    "ax.legend()\n",
    "ax.set_ylim([0.4,0.6])"
   ]
  },
  {
   "cell_type": "markdown",
   "metadata": {},
   "source": [
    "### Inverse function p.d.f. generation\n",
    "To generate a p.d.f via the inverse method we need the inverse of the cumulative function. The cumulative function was found in the first question while checking that the p.d.f. was normalized, thus:\n",
    "\n",
    "$$\n",
    "F(\\cos\\theta)=\\Big[\\frac{1}{2}z-\\frac{1}{12}P_{\\mu}z^2 \\Big]_{-1}^{\\cos\\theta}=\\frac{1}{2}(\\cos\\theta+1)-\\frac{1}{12}P_{\\mu}(\\cos^2\\theta-1) \n",
    "$$\n",
    "\n",
    "$$\n",
    "\\frac{P_{\\mu}}{12}\\cos^2\\theta-\\frac{\\cos\\theta}{2}+r-\\frac{1}{2}-\\frac{P_{\\mu}}{12}=0 \\quad \\rightarrow \\quad \\cos\\theta=\\frac{3}{P_{\\mu}}\\pm \\frac{6}{P_{\\mu}}\\sqrt{\\frac{1}{4}-\\frac{P_{\\mu}}{3}(r-\\frac{1}{2}-\\frac{P_{\\mu}}{12})}\n",
    "$$"
   ]
  },
  {
   "cell_type": "code",
   "execution_count": 9,
   "metadata": {},
   "outputs": [],
   "source": [
    "# Inverse function\n",
    "def Finv(r,Pmu):\n",
    "    #cost=(1.5-3.*np.sqrt(.25-2./3.*Pmu*(r-(3.+Pmu)/6.)))/Pmu\n",
    "    cost=(3.-6.*np.sqrt(.25-Pmu/3.*(r-.5-Pmu/12)))/Pmu\n",
    "    return cost"
   ]
  },
  {
   "cell_type": "markdown",
   "metadata": {},
   "source": [
    "(without numpy explicitely)"
   ]
  },
  {
   "cell_type": "code",
   "execution_count": 13,
   "metadata": {},
   "outputs": [],
   "source": [
    "#%%timeit\n",
    "N=10000000\n",
    "Xinv1=np.empty(N)\n",
    "for i in xrange(N):\n",
    "    r=random.random()\n",
    "    Xinv1[i]=Finv(r,Pmu)"
   ]
  },
  {
   "cell_type": "markdown",
   "metadata": {},
   "source": [
    "(with numpy magic)"
   ]
  },
  {
   "cell_type": "code",
   "execution_count": 21,
   "metadata": {},
   "outputs": [],
   "source": [
    "# Montecarlo inverse function\n",
    "def Montecarlo_inv_fun(Pmu,N=1000000):\n",
    "    m=len(Pmu)\n",
    "    PmuV=np.empty((m,1))\n",
    "    PmuV[:,0]=Pmu\n",
    "    r=np.random.random((m,N))\n",
    "    Xinv=Finv(r,PmuV)\n",
    "    return Xinv"
   ]
  },
  {
   "cell_type": "code",
   "execution_count": 11,
   "metadata": {},
   "outputs": [],
   "source": [
    "Xinv2=Montecarlo_inv_fun(Pmu,10000000)"
   ]
  },
  {
   "cell_type": "markdown",
   "metadata": {},
   "source": [
    "[Oriol] The execution time of the code without using numpy own methods is 18 seconds, whereas knowing numpy reduces it to 0.45 seconds (results with my computer with many things opened)"
   ]
  },
  {
   "cell_type": "code",
   "execution_count": 14,
   "metadata": {},
   "outputs": [
    {
     "data": {
      "text/plain": [
       "(0.4, 0.6)"
      ]
     },
     "execution_count": 14,
     "metadata": {},
     "output_type": "execute_result"
    },
    {
     "data": {
      "image/png": "[encoded data removed]",
      "text/plain": [
       "<matplotlib.figure.Figure at 0xae53ac8>"
      ]
     },
     "metadata": {},
     "output_type": "display_data"
    }
   ],
   "source": [
    "#Plot for the inverse function method\n",
    "fig=plt.figure(2)\n",
    "ax=fig.add_subplot(111)\n",
    "ax.hist(Xinv1,color='b',normed=1,bins=50,label='Montecarlo p.d.f.')\n",
    "ax.hist(Xinv2,color='g',normed=1,bins=50,label='Montecarlo p.d.f.',alpha=0.6)\n",
    "ax.plot(cost,dG,'r--',linewidth=2,label='Theoretical')\n",
    "ax.set_title('Inverse function montecarlo generated $d\\Gamma$ p.d.f.')\n",
    "ax.set_xlabel(r'$\\cos\\theta$')\n",
    "ax.set_ylabel('$d\\Gamma$')\n",
    "ax.legend()\n",
    "ax.set_ylim([0.4,0.6])"
   ]
  },
  {
   "cell_type": "markdown",
   "metadata": {},
   "source": [
    "### Estimate distribution parameters\n",
    "In this section, the rellevant parameters of the p.d.f. will be estimated from the montecarlo generated sample. To be able to compare this values, the theoretical values will also be obtained:\n",
    "\n",
    "$$\n",
    "\\int_{-1}^{1} \\frac{1}{2}\\big(1-\\frac{1}{3}P_{\\mu}\\cos\\theta\\big) \\cos\\theta d\\cos\\theta = \\Big[\\frac{\\cos^2\\theta}{4}-\\frac{P_{\\mu}}{6}\\frac{\\cos^3\\theta}{3}\\Big]_{-1}^{1}=\\frac{-P_{\\mu}}{9}\n",
    "$$"
   ]
  },
  {
   "cell_type": "code",
   "execution_count": 75,
   "metadata": {},
   "outputs": [
    {
     "name": "stdout",
     "output_type": "stream",
     "text": [
      "The try-reject montecarlo generated distribution has:\n",
      "mean = -0.033837,\n",
      "sigma = 0.576352,\n",
      "skewness = 0.070684\n",
      "and kurtosis = -1.191796\n"
     ]
    }
   ],
   "source": [
    "mu=np.mean(Xi1)\n",
    "sigma=np.std(Xi1) # equivalente a np.sqrt(np.var(Xi1))\n",
    "skewness=stat.skew(Xi1)\n",
    "kurtosis=stat.kurtosis(Xi1)\n",
    "\n",
    "print 'The try-reject montecarlo generated distribution has:\\nmean = %.6f,\\n\\\n",
    "sigma = %.6f,\\nskewness = %.6f\\nand kurtosis = %.6f' %(mu, sigma, skewness, kurtosis)"
   ]
  },
  {
   "cell_type": "markdown",
   "metadata": {
    "collapsed": true
   },
   "source": [
    "# Part 3\n",
    "The $\\frac{d\\Gamma}{d\\cos\\theta}$ mean depends on the polarisation $P_{\\mu}$ in a simple manner: mean = $P_{\\mu}$/9. \n",
    "\n",
    "### 3.1. Show that the Monte Carlo predicts this dependency by changing the value of $P_{\\mu}$"
   ]
  },
  {
   "cell_type": "code",
   "execution_count": 24,
   "metadata": {},
   "outputs": [],
   "source": [
    "PmuVec=np.linspace(-1,1,30)\n",
    "X=Montecarlo_inv_fun(PmuVec)\n",
    "mu=np.mean(X,axis=1)\n",
    "muTh=-PmuVec/9."
   ]
  },
  {
   "cell_type": "code",
   "execution_count": 27,
   "metadata": {},
   "outputs": [
    {
     "data": {
      "text/plain": [
       "<matplotlib.legend.Legend at 0x111eba90>"
      ]
     },
     "execution_count": 27,
     "metadata": {},
     "output_type": "execute_result"
    },
    {
     "data": {
      "image/png": "[encoded data removed]",
      "text/plain": [
       "<matplotlib.figure.Figure at 0x10ea7048>"
      ]
     },
     "metadata": {},
     "output_type": "display_data"
    }
   ],
   "source": [
    "fig=plt.figure(1)\n",
    "ax=fig.add_subplot(111)\n",
    "ax.plot(PmuVec,mu,'ro',PmuVec,muTh,'b--')\n",
    "ax.set_title('$P_{\\mu}$ p.d.f. dependency')\n",
    "ax.set_xlabel(r'$P_{\\mu}$')\n",
    "ax.set_ylabel('$\\mu$')\n",
    "ax.legend(['Estimated mean','Theoretical mean'])"
   ]
  },
  {
   "cell_type": "markdown",
   "metadata": {},
   "source": [
    "### 3.2. What is the variance of the parameter $P_{\\mu}$? Compute it numerically using Monte Carlo techniques for a given $P_{\\mu}$ value."
   ]
  },
  {
   "cell_type": "markdown",
   "metadata": {},
   "source": [
    "# Part 4\n",
    "Generate a continuous series of N events using the Monte Carlo and compute the mean of the distribution and the estimated $P_{\\mu}$ as 9*mean. \n",
    "\n",
    "### 4.1. Show that the $P_{\\mu}$ tends to the tru evalue as predicted by the law of large numbers"
   ]
  },
  {
   "cell_type": "code",
   "execution_count": null,
   "metadata": {
    "collapsed": true
   },
   "outputs": [],
   "source": []
  }
 ],
 "metadata": {
  "kernelspec": {
   "display_name": "Python 2",
   "language": "python",
   "name": "python2"
  },
  "language_info": {
   "codemirror_mode": {
    "name": "ipython",
    "version": 2
   },
   "file_extension": ".py",
   "mimetype": "text/x-python",
   "name": "python",
   "nbconvert_exporter": "python",
   "pygments_lexer": "ipython2",
   "version": "2.7.13"
  }
 },
 "nbformat": 4,
 "nbformat_minor": 1
}
