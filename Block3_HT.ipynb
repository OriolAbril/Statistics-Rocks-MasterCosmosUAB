{
 "cells": [
  {
   "cell_type": "markdown",
   "metadata": {},
   "source": [
    "# Block 3\n",
    "We have a detector that measures hit positions in an $(x; y)$ plane in the range $([-1,1],[-1,1])$ and\n",
    "the energy (E) in the range $[0,10]$, in arbitrary units.\n",
    "\n",
    "Using such a detector, we perform an experiment with the aim of statistically establishing\n",
    "the detection of events of type signal, in the presence of events of type background. Signal and\n",
    "background events have different p.d.f.'s for x, y and E. The result of our experiment is provided\n",
    "in the input file data `On.txt`.\n",
    "\n",
    "In an independent experiment, using the same detector, we measure in conditions such that only\n",
    "background events are collected. We measure for 3 times longer and therefore we expect 3 times\n",
    "more background events in the Off data sample than in the On data sample. The results are\n",
    "provided in the input file data `Off.txt`.\n",
    "\n",
    "In order to study the best way to separate signal from background using the spatial information\n",
    "we use two independent simulated samples (train and test) for signal and background events, re-\n",
    "spectively. Those are train `signal.txt`, `train bkg.txt`, `test signal.txt` and `test bkg.txt`.\n",
    "\n",
    "The joint p.d.f.'s for the spatial coordinates for signal and background events are, respectively:"
   ]
  },
  {
   "cell_type": "markdown",
   "metadata": {},
   "source": [
    "$$\n",
    "f_s(\n",
    "$$\n",
    "with $a = b = 6$ and $c = -5$, for signal, and\n",
    "$$\n",
    "f_b(\n",
    "$$\n",
    "with $r = \\sqrt{x^2 + y^2}$, $r0 = 0.6$ and $\\sigma_r = 0.4$, for background.\n",
    "\n",
    "In addition, we know that the spectrum of signal and background events have, respectively, the following shapes:\n",
    "$$\n",
    "\\frac{dN_S}{d_E}\n",
    "$$\n",
    "with $E_0$ known to be in the range $[0,10]$ and $\\sigma_E = 1$, for signal, and\n",
    "$$\n",
    "\\frac{dN_b}{d_E}\n",
    "$$\n",
    "with $\\gamma > 1/5$, for background."
   ]
  },
  {
   "cell_type": "markdown",
   "metadata": {},
   "source": [
    "## 1. Select, out of the data and background-control samples, signal-enriched subsamples following these steps:\n",
    "### (a) Using the train sample and/or the known spatial p.d.f.'s for signal and background events, consider/construct the following test statistics:\n",
    " * The radial distance $r = \\sqrt{x^2 + y^2}$\n",
    " * A Fisher discriminant using as input the polar coordinates $(r,\\theta)$, with $\\theta = tan^{-1}(y/x)$. Comment why using $r$ and $\\theta$ should be better than using $x$ and $y$.\n",
    " * The exact \n",
    " * The likelihood ratio estimated from the train sample.\n",
    " * A neural network (use, e.g. scikit-learn MLPRegressor class, more information at scikit-lern.org)"
   ]
  },
  {
   "cell_type": "code",
   "execution_count": 1,
   "metadata": {
    "collapsed": true
   },
   "outputs": [],
   "source": [
    "%matplotlib inline\n",
    "# mathematical tools optimized for lists\n",
    "import numpy as np\n",
    "# tools for numerical integration\n",
    "import scipy.integrate as pyint\n",
    "# tools for numerical function minimization\n",
    "import scipy.optimize as opt\n",
    "# tools for plots\n",
    "import matplotlib.pyplot as plt\n",
    "# for neural network\n",
    "import sklearn.preprocessing as preproc\n",
    "import sklearn.neural_network as nn"
   ]
  },
  {
   "cell_type": "code",
   "execution_count": 2,
   "metadata": {
    "collapsed": true
   },
   "outputs": [],
   "source": [
    "trainSignal = np.loadtxt('Block3_data/train_signal.txt',skiprows=2,usecols=(0,1))\n",
    "trainBackground = np.loadtxt('Block3_data/train_bkg.txt',skiprows=2,usecols=(0,1))"
   ]
  },
  {
   "cell_type": "markdown",
   "metadata": {},
   "source": [
    "#### a.1) Radial distance"
   ]
  },
  {
   "cell_type": "code",
   "execution_count": 3,
   "metadata": {},
   "outputs": [
    {
     "data": {
      "text/plain": [
       "(array([ 0.50907053,  1.19638705,  1.29406585,  1.16572874,  0.91048049,\n",
       "         0.77073564,  0.57537804,  0.42279948,  0.22031204,  0.06488154]),\n",
       " array([ 0.00147648,  0.1417321 ,  0.28198771,  0.42224332,  0.56249894,\n",
       "         0.70275455,  0.84301017,  0.98326578,  1.12352139,  1.26377701,\n",
       "         1.40403262]),\n",
       " <a list of 10 Patch objects>)"
      ]
     },
     "execution_count": 3,
     "metadata": {},
     "output_type": "execute_result"
    },
    {
     "data": {
      "image/png": "[encoded data removed]",
      "text/plain": [
       "<matplotlib.figure.Figure at 0x9eeaf98>"
      ]
     },
     "metadata": {},
     "output_type": "display_data"
    }
   ],
   "source": [
    "# Signal\n",
    "trainSignalX = trainSignal[:,0]\n",
    "trainSignalY = trainSignal[:,1]\n",
    "trainSignalR = np.sqrt(trainSignalX**2 + trainSignalY**2)\n",
    "fig=plt.figure()\n",
    "ax1=fig.add_subplot(121)\n",
    "ax1.hist2d(trainSignalX,trainSignalY)\n",
    "ax2=fig.add_subplot(122)\n",
    "ax2.hist(trainSignalR,normed=1)"
   ]
  },
  {
   "cell_type": "code",
   "execution_count": 4,
   "metadata": {},
   "outputs": [
    {
     "data": {
      "text/plain": [
       "(array([ 0.09386177,  0.31068974,  0.66576372,  1.00191983,  1.34535205,\n",
       "         1.41884072,  1.40938178,  0.74434567,  0.2393839 ,  0.04656708]),\n",
       " array([ 0.0236603 ,  0.16109645,  0.2985326 ,  0.43596874,  0.57340489,\n",
       "         0.71084103,  0.84827718,  0.98571333,  1.12314947,  1.26058562,\n",
       "         1.39802176]),\n",
       " <a list of 10 Patch objects>)"
      ]
     },
     "execution_count": 4,
     "metadata": {},
     "output_type": "execute_result"
    },
    {
     "data": {
      "image/png": "[encoded data removed]",
      "text/plain": [
       "<matplotlib.figure.Figure at 0xa302128>"
      ]
     },
     "metadata": {},
     "output_type": "display_data"
    }
   ],
   "source": [
    "# Background\n",
    "trainBkgX = trainBackground[:,0]\n",
    "trainBkgY = trainBackground[:,1]\n",
    "trainBkgR = np.sqrt(trainBkgX**2 + trainBkgY**2)\n",
    "fig=plt.figure()\n",
    "ax1=fig.add_subplot(121)\n",
    "ax1.hist2d(trainBkgX,trainBkgY)\n",
    "ax2=fig.add_subplot(122)\n",
    "ax2.hist(trainBkgR,normed=1)\n"
   ]
  },
  {
   "cell_type": "markdown",
   "metadata": {},
   "source": [
    "#### a.2) Fischer discriminant"
   ]
  },
  {
   "cell_type": "code",
   "execution_count": 16,
   "metadata": {},
   "outputs": [
    {
     "name": "stderr",
     "output_type": "stream",
     "text": [
      "C:\\Users\\Oriol\\Anaconda2\\lib\\site-packages\\ipykernel_launcher.py:1: RuntimeWarning: divide by zero encountered in divide\n",
      "  \"\"\"Entry point for launching an IPython kernel.\n"
     ]
    }
   ],
   "source": [
    "trainSignalTheta = np.arctan(trainSignalY/trainSignalX)\n",
    "trainBkgTheta = np.arctan(trainBkgY/trainBkgX)\n",
    "def Fischer_a2(sample,a):\n",
    "    T = np.dot(a,sample)\n",
    "    return T"
   ]
  },
  {
   "cell_type": "code",
   "execution_count": null,
   "metadata": {
    "collapsed": true
   },
   "outputs": [],
   "source": []
  }
 ],
 "metadata": {
  "kernelspec": {
   "display_name": "Python 2",
   "language": "python",
   "name": "python2"
  },
  "language_info": {
   "codemirror_mode": {
    "name": "ipython",
    "version": 2
   },
   "file_extension": ".py",
   "mimetype": "text/x-python",
   "name": "python",
   "nbconvert_exporter": "python",
   "pygments_lexer": "ipython2",
   "version": "2.7.14"
  }
 },
 "nbformat": 4,
 "nbformat_minor": 2
}
