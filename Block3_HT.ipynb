{
 "cells": [
  {
   "cell_type": "markdown",
   "metadata": {},
   "source": [
    "# Block 3\n",
    "We have a detector that measures hit positions in an $(x; y)$ plane in the range $([-1,1],[-1,1])$ and\n",
    "the energy (E) in the range $[0,10]$, in arbitrary units.\n",
    "\n",
    "Using such a detector, we perform an experiment with the aim of statistically establishing\n",
    "the detection of events of type signal, in the presence of events of type background. Signal and\n",
    "background events have different p.d.f.'s for x, y and E. The result of our experiment is provided\n",
    "in the input file data `On.txt`.\n",
    "\n",
    "In an independent experiment, using the same detector, we measure in conditions such that only\n",
    "background events are collected. We measure for 3 times longer and therefore we expect 3 times\n",
    "more background events in the Off data sample than in the On data sample. The results are\n",
    "provided in the input file data `Off.txt`.\n",
    "\n",
    "In order to study the best way to separate signal from background using the spatial information\n",
    "we use two independent simulated samples (train and test) for signal and background events, re-\n",
    "spectively. Those are train `signal.txt`, `train bkg.txt`, `test signal.txt` and `test bkg.txt`.\n",
    "\n",
    "The joint p.d.f.'s for the spatial coordinates for signal and background events are, respectively:"
   ]
  },
  {
   "cell_type": "code",
   "execution_count": null,
   "metadata": {
    "collapsed": true
   },
   "outputs": [],
   "source": []
  }
 ],
 "metadata": {
  "kernelspec": {
   "display_name": "Python 2",
   "language": "python",
   "name": "python2"
  },
  "language_info": {
   "codemirror_mode": {
    "name": "ipython",
    "version": 2
   },
   "file_extension": ".py",
   "mimetype": "text/x-python",
   "name": "python",
   "nbconvert_exporter": "python",
   "pygments_lexer": "ipython2",
   "version": "2.7.14"
  }
 },
 "nbformat": 4,
 "nbformat_minor": 2
}
