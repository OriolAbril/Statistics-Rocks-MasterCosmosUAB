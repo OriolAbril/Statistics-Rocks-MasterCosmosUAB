{
 "cells": [
  {
   "cell_type": "markdown",
   "metadata": {
    "collapsed": true
   },
   "source": [
    "# Exercise 1\n",
    "\n",
    "Six independent observations from a Gaussian distribution $N(\\mu, \\sigma^{2})$ are given by {1.017, 2.221, 1.416, 0.641, 0.124, 1.728}. If $\\sigma=0.75$ is known, find the symmetric confidence intervals for $\\mu$ with confidence levels $1-\\alpha$ = 0.68, 0.90, and 0.95, respectively."
   ]
  },
  {
   "cell_type": "markdown",
   "metadata": {},
   "source": [
    "### Case 1: $\\sigma$ is known"
   ]
  },
  {
   "cell_type": "code",
   "execution_count": 5,
   "metadata": {
    "collapsed": true
   },
   "outputs": [],
   "source": [
    "import numpy as np\n",
    "import math\n",
    "import scipy.stats as stat # extra statistical functions (the basic are included in numpy)\n",
    "import scipy.optimize as opt # optimization and root finding package "
   ]
  },
  {
   "cell_type": "code",
   "execution_count": 6,
   "metadata": {
    "collapsed": true
   },
   "outputs": [],
   "source": [
    "def find_delta(delta, alpha, sigma):\n",
    "    x = math.erf(delta/(np.sqrt(2)*sigma)) -1 + alpha\n",
    "    return x\n",
    "\n"
   ]
  },
  {
   "cell_type": "markdown",
   "metadata": {},
   "source": [
    "If sigma is known, then:"
   ]
  },
  {
   "cell_type": "code",
   "execution_count": 7,
   "metadata": {},
   "outputs": [
    {
     "name": "stdout",
     "output_type": "stream",
     "text": [
      "Mu: 1.20528333333\n",
      "\n",
      "Delta: 0.745843412407\n",
      "Interval [mu-delta, mu+delta] 0.459439920926 1.95112674574\n",
      "Delta: 1.23364022021\n",
      "Interval [mu-delta, mu+delta] -0.0283568868803 2.43892355355\n",
      "Delta: 1.46997298841\n",
      "Interval [mu-delta, mu+delta] -0.264689655072 2.67525632174\n"
     ]
    }
   ],
   "source": [
    "obs = [1.1017, 2.221, 1.416, 0.641, 0.124, 1.728]\n",
    "alpha = 1-np.array([0.68, 0.90, 0.95])\n",
    "sigma_real = 0.75\n",
    "opt_delta = np.empty(len(alpha))\n",
    "mu=np.mean(obs)\n",
    "print \"Mu:\", mu\n",
    "print \"\"\n",
    "\n",
    "for i in range(len(alpha)):\n",
    "    opt_delta[i] = opt.fsolve(find_delta, sigma_real, args=(alpha[i],sigma_real))\n",
    "    print \"Delta:\", opt_delta[i]\n",
    "    print 'Interval [mu-delta, mu+delta]', mu-opt_delta[i], mu+opt_delta[i] \n"
   ]
  },
  {
   "cell_type": "markdown",
   "metadata": {},
   "source": [
    " ### Case 2: $\\sigma$ is unknown. "
   ]
  },
  {
   "cell_type": "markdown",
   "metadata": {},
   "source": [
    "If we did not have sigma, we would first estimate it and use this estimate as our actual value. The resulting confidence intervals would be an estimation of the real confidence intervals shown above. The code below takes sigma as the std of the measurements."
   ]
  },
  {
   "cell_type": "code",
   "execution_count": 8,
   "metadata": {},
   "outputs": [
    {
     "ename": "NameError",
     "evalue": "name 'sigma' is not defined",
     "output_type": "error",
     "traceback": [
      "\u001b[0;31m---------------------------------------------------------------------------\u001b[0m",
      "\u001b[0;31mNameError\u001b[0m                                 Traceback (most recent call last)",
      "\u001b[0;32m<ipython-input-8-deeb60b439af>\u001b[0m in \u001b[0;36m<module>\u001b[0;34m()\u001b[0m\n\u001b[1;32m      5\u001b[0m \u001b[0mopt_delta_estimated\u001b[0m \u001b[0;34m=\u001b[0m \u001b[0mnp\u001b[0m\u001b[0;34m.\u001b[0m\u001b[0mempty\u001b[0m\u001b[0;34m(\u001b[0m\u001b[0mlen\u001b[0m\u001b[0;34m(\u001b[0m\u001b[0malpha\u001b[0m\u001b[0;34m)\u001b[0m\u001b[0;34m)\u001b[0m\u001b[0;34m\u001b[0m\u001b[0m\n\u001b[1;32m      6\u001b[0m \u001b[0mmu\u001b[0m\u001b[0;34m=\u001b[0m\u001b[0mnp\u001b[0m\u001b[0;34m.\u001b[0m\u001b[0mmean\u001b[0m\u001b[0;34m(\u001b[0m\u001b[0mobs\u001b[0m\u001b[0;34m)\u001b[0m\u001b[0;34m\u001b[0m\u001b[0m\n\u001b[0;32m----> 7\u001b[0;31m \u001b[0;32mprint\u001b[0m \u001b[0;34m\"Mu = %g and Sigma = %g\"\u001b[0m \u001b[0;34m%\u001b[0m\u001b[0;34m(\u001b[0m\u001b[0mmu\u001b[0m\u001b[0;34m,\u001b[0m \u001b[0msigma\u001b[0m\u001b[0;34m)\u001b[0m\u001b[0;34m\u001b[0m\u001b[0m\n\u001b[0m\u001b[1;32m      8\u001b[0m \u001b[0;32mprint\u001b[0m \u001b[0;34m\"\"\u001b[0m\u001b[0;34m\u001b[0m\u001b[0m\n\u001b[1;32m      9\u001b[0m \u001b[0;34m\u001b[0m\u001b[0m\n",
      "\u001b[0;31mNameError\u001b[0m: name 'sigma' is not defined"
     ]
    }
   ],
   "source": [
    "obs = [1.1017, 2.221, 1.416, 0.641, 0.124, 1.728]\n",
    "alpha = 1-np.array([0.68, 0.90, 0.95])\n",
    "sigma_estimated = np.std(obs)\n",
    "\n",
    "opt_delta_estimated = np.empty(len(alpha))\n",
    "mu=np.mean(obs)\n",
    "print \"Mu = %g and Sigma = %g\" %(mu, sigma)\n",
    "print \"\"\n",
    "\n",
    "for i in range(len(alpha)):\n",
    "    opt_delta_estimated[i] = opt.fsolve(find_delta, sigma_estimated, args=(alpha[i],sigma_estimated))\n",
    "    \n",
    "    #if our estimated delta was the true one, our results would match the values in the alpha array.\n",
    "    print \"1-alpha = %.3f\" %math.erf(opt_delta_estimated[i]/(np.sqrt(2)*sigma_real)) \n",
    "    \n",
    "    print \"Delta = \", opt_delta[i]\n",
    "    print 'Interval [mu-delta, mu+delta]', mu-opt_delta[i], mu+opt_delta[i] "
   ]
  },
  {
   "cell_type": "markdown",
   "metadata": {},
   "source": [
    "# Exercise 2"
   ]
  },
  {
   "cell_type": "markdown",
   "metadata": {},
   "source": [
    "Let's imagine that an LHC experiment measures the number ofe vents produced in a certain decay channel of the Higgs particle. Let's call $\\nu$ the expected number of events, assuming there is no background. Then, the probability to measure exactly $N$ events in an experiment is given by the Poisson probability distribution:"
   ]
  },
  {
   "cell_type": "markdown",
   "metadata": {},
   "source": [
    "## Part 1"
   ]
  },
  {
   "cell_type": "markdown",
   "metadata": {},
   "source": [
    "(a) Check that $P(N; \\nu)$ is properly normalized."
   ]
  },
  {
   "cell_type": "markdown",
   "metadata": {},
   "source": [
    "$$P(N,\\nu)= \\frac{\\nu^{N}}{N!} e^{-\\nu}$$\n",
    "\n",
    "$$E[N]=\\sum_{n=0}^\\infty nP(n;\\nu)=\\sum_{n=1}^\\infty n \\frac{\\nu^{n}}{n!} e^{-\\nu}= \\nu \\sum_{n=1}^\\infty \\frac{\\nu^{n-1}}{(n-1)!} e^{-\\nu}= \\nu \\sum_{n=0}^\\infty \\frac{\\nu^{m}}{m!} e^ {-\\nu}= \\nu e^{\\nu} e^{-\\nu}= \\nu$$ \n",
    "\n",
    "where m=n-1,n=1 and m=0 \n",
    "\n",
    "$$E[N(N-1)]= \\sum_{n=0}^\\infty n(n-1) P(n;\\nu)= \\sum_{n=2}^\\infty n(n-1) \\frac{\\nu^{n}}{n!} e^{-\\nu}= e^{-\\nu} \\nu^{2} \\sum_{n=2}^\\infty \\frac{\\nu^{n-2}}{(n-2)!}= e^{-\\nu} \\nu^{2}\\nu= \\nu^{2}$$\n",
    "\n",
    "$$E[N(N-1)]= E[N^{2}]-E[N]\\rightarrow E[N^{2}]= E[N(N-1)]+ E[N]= \\nu^{2}+\\nu$$\n",
    "\n",
    "$$Var[N]= E[N^{2}]-(E[N])^{2}= \\nu^{2}+\\nu-\\nu^{2}= \\nu$$\n",
    "\n",
    "$$\\hat{\\nu}_{ML}= \\frac{1}{n} \\sum_{i=1}^{n} N_{i}$$\n",
    "\n",
    "$$Var[\\hat{\\nu}_{ML}]= Var[\\frac{1}{n} \\sum_{i=1}^{N} N_{i}]= \\frac{1}{n^{2}} \\sum_{i=1}^{n} Var[N_{i}]= \\frac{1}{n^{2}} n \\nu= \\frac{1}{n}$$\n",
    "\n",
    "$Var[N_{i}]= \\nu$"
   ]
  },
  {
   "cell_type": "markdown",
   "metadata": {},
   "source": [
    "(b) Given an observed value of $N (=N_{obs})$, find a frequentist unbiased esitmator for $\\nu$. Compute its expected value and variance. "
   ]
  },
  {
   "cell_type": "markdown",
   "metadata": {},
   "source": [
    "$$\n",
    "P(N;\\nu)=\\frac{\\nu^{N}}{N!}e^{-\\nu}\\\\\n",
    "L\\left(\\left\\{ N_{i}\\right\\} ;\\nu\\right)=\\Pi_{i=1}^{m}\\frac{\\nu^{N_{i}}}{N_{i}!}e^{-\\nu}=e^{-\\nu m}\\Pi_{i=1}^{m}\\frac{\\nu^{N_{i}}}{N_{i}!}\\\\\n",
    "P\\left(\\left\\{ N_{i}\\right\\} ;\\nu\\right)=-\\log L=-\\left(-\\nu_{m}+\\sum N_{i}\\log\\nu-\\sum\\log N_{i}!\\right)=\\nu_{m}-\\sum N_{i}\\log\\nu-\\sum\\log N_{i}!\\\\\n",
    "\\frac{\\partial P}{\\partial\\nu}|_{\\nu=\\hat{\\nu}ML}=m-\\sum\\frac{N_{i}}{\\hat{\\nu}_{ML}}=0\\rightarrow\\hat{\\nu}_{ML}=\\frac{1}{m}\\sum_{i=1}^{m}N_{i}\\\\\n",
    "\\left\\langle \\hat{\\nu}_{ML}\\right\\rangle =\\left\\langle \\frac{1}{m}\\sum N_{i}\\right\\rangle =\\frac{1}{m}\\sum\\left\\langle N_{i}\\right\\rangle =\\frac{1}{m}\\sum\\left\\langle N\\right\\rangle =\\frac{1}{m}\\sum\\nu=\\nu.\n",
    "$$\n",
    "\n",
    "\n",
    "where $m$ is the number of observations. En la ultima ecuación, falta demostrar que la esperanza de N (i.e.$\\left\\langle N\\right\\rangle$) es igual a $\\nu$. "
   ]
  },
  {
   "cell_type": "code",
   "execution_count": null,
   "metadata": {
    "collapsed": true
   },
   "outputs": [],
   "source": []
  }
 ],
 "metadata": {
  "kernelspec": {
   "display_name": "Python 2",
   "language": "python",
   "name": "python2"
  },
  "language_info": {
   "codemirror_mode": {
    "name": "ipython",
    "version": 2
   },
   "file_extension": ".py",
   "mimetype": "text/x-python",
   "name": "python",
   "nbconvert_exporter": "python",
   "pygments_lexer": "ipython2",
   "version": "2.7.13"
  }
 },
 "nbformat": 4,
 "nbformat_minor": 1
}
