{
 "cells": [
  {
   "cell_type": "markdown",
   "metadata": {},
   "source": [
    "# Block 3\n",
    "We have a detector that measures hit positions in an $(x; y)$ plane in the range $([-1,1],[-1,1])$ and\n",
    "the energy (E) in the range $[0,10]$, in arbitrary units.\n",
    "\n",
    "Using such a detector, we perform an experiment with the aim of statistically establishing\n",
    "the detection of events of type signal, in the presence of events of type background. Signal and\n",
    "background events have different p.d.f.'s for x, y and E. The result of our experiment is provided\n",
    "in the input file data `On.txt`.\n",
    "\n",
    "In an independent experiment, using the same detector, we measure in conditions such that only\n",
    "background events are collected. We measure for 3 times longer and therefore we expect 3 times\n",
    "more background events in the Off data sample than in the On data sample. The results are\n",
    "provided in the input file data `Off.txt`.\n",
    "\n",
    "In order to study the best way to separate signal from background using the spatial information\n",
    "we use two independent simulated samples (train and test) for signal and background events, re-\n",
    "spectively. Those are train `signal.txt`, `train bkg.txt`, `test signal.txt` and `test bkg.txt`.\n",
    "\n",
    "The joint p.d.f.'s for the spatial coordinates for signal and background events are, respectively:"
   ]
  },
  {
   "cell_type": "markdown",
   "metadata": {},
   "source": [
    "$$\n",
    "f_s(\n",
    "$$\n",
    "with $a = b = 6$ and $c = -5$, for signal, and\n",
    "$$\n",
    "f_b(\n",
    "$$\n",
    "with $r = \\sqrt{x^2 + y^2}$, $r0 = 0.6$ and $\\sigma_r = 0.4$, for background.\n",
    "\n",
    "In addition, we know that the spectrum of signal and background events have, respectively, the following shapes:\n",
    "$$\n",
    "\\frac{dN_S}{d_E}\n",
    "$$\n",
    "with $E_0$ known to be in the range $[0,10]$ and $\\sigma_E = 1$, for signal, and\n",
    "$$\n",
    "\\frac{dN_b}{d_E}\n",
    "$$\n",
    "with $\\gamma > 1/5$, for background."
   ]
  },
  {
   "cell_type": "markdown",
   "metadata": {},
   "source": [
    "## 1. Select, out of the data and background-control samples, signal-enriched subsamples following these steps:\n",
    "### (a) Using the train sample and/or the known spatial p.d.f.'s for signal and background events, consider/construct the following test statistics:\n",
    " * The radial distance $r = \\sqrt{x^2 + y^2}$\n",
    " * A Fisher discriminant using as input the polar coordinates $(r,\\theta)$, with $\\theta = tan^{-1}(y/x)$. Comment why using $r$ and $\\theta$ should be better than using $x$ and $y$.\n",
    " * The exact \n",
    " * The likelihood ratio estimated from the train sample.\n",
    " * A neural network (use, e.g. scikit-learn MLPRegressor class, more information at scikit-lern.org)"
   ]
  },
  {
   "cell_type": "code",
   "execution_count": 35,
   "metadata": {
    "collapsed": true
   },
   "outputs": [],
   "source": [
    "%matplotlib inline\n",
    "# mathematical tools optimized for lists\n",
    "import numpy as np\n",
    "# stattistics\n",
    "import scipy.stats as stat\n",
    "# tools for numerical integration\n",
    "import scipy.integrate as pyint\n",
    "# tools for numerical function minimization\n",
    "import scipy.optimize as opt\n",
    "# tools for plots\n",
    "import matplotlib.pyplot as plt\n",
    "# for neural network\n",
    "import sklearn.preprocessing as preproc\n",
    "import sklearn.neural_network as nn"
   ]
  },
  {
   "cell_type": "code",
   "execution_count": 14,
   "metadata": {
    "collapsed": true
   },
   "outputs": [],
   "source": [
    "trnS = np.loadtxt('Block3_data/train_signal.txt',skiprows=2,usecols=(0,1))\n",
    "trnB = np.loadtxt('Block3_data/train_bkg.txt',skiprows=2,usecols=(0,1))\n",
    "tstS = np.loadtxt('Block3_data/test_signal.txt',skiprows=2,usecols=(0,1))\n",
    "tstB = np.loadtxt('Block3_data/test_bkg.txt',skiprows=2,usecols=(0,1))"
   ]
  },
  {
   "cell_type": "markdown",
   "metadata": {},
   "source": [
    "### Radial distance"
   ]
  },
  {
   "cell_type": "markdown",
   "metadata": {},
   "source": [
    "Train"
   ]
  },
  {
   "cell_type": "code",
   "execution_count": 15,
   "metadata": {
    "collapsed": false
   },
   "outputs": [],
   "source": [
    "# Signal\n",
    "trnSX = trnS[:,0]\n",
    "trnSY = trnS[:,1]\n",
    "trnSR = np.sqrt(trnSX**2 + trnSY**2)"
   ]
  },
  {
   "cell_type": "code",
   "execution_count": 17,
   "metadata": {
    "collapsed": true
   },
   "outputs": [],
   "source": [
    "# Background\n",
    "trnBX = trnB[:,0]\n",
    "trnBY = trnB[:,1]\n",
    "trnBR = np.sqrt(trnBX**2 + trnBY**2)"
   ]
  },
  {
   "cell_type": "markdown",
   "metadata": {},
   "source": [
    "Test"
   ]
  },
  {
   "cell_type": "code",
   "execution_count": 20,
   "metadata": {
    "collapsed": true
   },
   "outputs": [],
   "source": [
    "# Signal\n",
    "tstSX = tstS[:,0]\n",
    "tstSY = tstS[:,1]\n",
    "tstSR = np.sqrt(tstSX**2 + tstSY**2)"
   ]
  },
  {
   "cell_type": "code",
   "execution_count": 21,
   "metadata": {
    "collapsed": true
   },
   "outputs": [],
   "source": [
    "# Background\n",
    "tstBX = tstB[:,0]\n",
    "tstBY = tstB[:,1]\n",
    "tstBR = np.sqrt(tstBX**2 + tstBY**2)"
   ]
  },
  {
   "cell_type": "markdown",
   "metadata": {},
   "source": [
    "Comparison train vs test"
   ]
  },
  {
   "cell_type": "code",
   "execution_count": 34,
   "metadata": {
    "collapsed": false
   },
   "outputs": [
    {
     "data": {
      "image/png": "[encoded data removed]",
      "text/plain": [
       "<matplotlib.figure.Figure at 0x111484b10>"
      ]
     },
     "metadata": {},
     "output_type": "display_data"
    }
   ],
   "source": [
    "fig=plt.figure()\n",
    "fig.suptitle('Signal')\n",
    "ax1=fig.add_subplot(221)\n",
    "ax1.hist2d(trnSX,trnSY)\n",
    "ax1.set_xlabel('x')\n",
    "ax1.set_ylabel('y')\n",
    "ax1.set_title('Train')\n",
    "ax2=fig.add_subplot(222)\n",
    "ax2.hist2d(tstSX,tstSY)\n",
    "ax2.set_xlabel('x')\n",
    "ax2.set_ylabel('y')\n",
    "ax2.set_title('Test')\n",
    "ax3=fig.add_subplot(212)\n",
    "ax3.hist(trnSR,normed=1,histtype='step',label='train')\n",
    "ax3.hist(tstSR,normed=1,histtype='step',label='test')\n",
    "ax3.set_xlabel('r')\n",
    "ax3.set_ylabel('# ocurrences (normalized)')\n",
    "ax3.legend()\n",
    "plt.tight_layout()"
   ]
  },
  {
   "cell_type": "code",
   "execution_count": 32,
   "metadata": {
    "collapsed": false
   },
   "outputs": [
    {
     "data": {
      "image/png": "[encoded data removed]",
      "text/plain": [
       "<matplotlib.figure.Figure at 0x11148d7d0>"
      ]
     },
     "metadata": {},
     "output_type": "display_data"
    }
   ],
   "source": [
    "fig=plt.figure()\n",
    "fig.suptitle('Background')\n",
    "ax1=fig.add_subplot(221)\n",
    "ax1.hist2d(trnBX,trnBY)\n",
    "ax1.set_xlabel('x')\n",
    "ax1.set_ylabel('y')\n",
    "ax1.set_title('Train')\n",
    "ax2=fig.add_subplot(222)\n",
    "ax2.hist2d(tstBX,tstBY)\n",
    "ax2.set_xlabel('x')\n",
    "ax2.set_ylabel('y')\n",
    "ax2.set_title('Test')\n",
    "ax3=fig.add_subplot(212)\n",
    "ax3.hist(trnBR,normed=1,histtype='step',label='train')\n",
    "ax3.hist(tstBR,normed=1,histtype='step',label='test')\n",
    "ax3.set_xlabel('r')\n",
    "ax3.set_ylabel('# ocurrences (normalized)')\n",
    "ax3.legend()\n",
    "plt.tight_layout()"
   ]
  },
  {
   "cell_type": "markdown",
   "metadata": {},
   "source": [
    "### Kolmogorov"
   ]
  },
  {
   "cell_type": "code",
   "execution_count": 38,
   "metadata": {
    "collapsed": false
   },
   "outputs": [
    {
     "name": "stdout",
     "output_type": "stream",
     "text": [
      "Ks_2sampResult(statistic=0.018600000000000005, pvalue=0.062138623199628297)\n",
      "Ks_2sampResult(statistic=0.0093999999999999917, pvalue=0.76711145525773772)\n"
     ]
    }
   ],
   "source": [
    "#For radial distance\n",
    "Skol = stat.ks_2samp(trnSR,tstSR)\n",
    "Bkol = stat.ks_2samp(trnBR,tstBR)\n",
    "print Skol\n",
    "print Bkol"
   ]
  },
  {
   "cell_type": "markdown",
   "metadata": {},
   "source": [
    "Comment the cases for which the p-value is very low (i.e. p < 0.01)."
   ]
  },
  {
   "cell_type": "markdown",
   "metadata": {},
   "source": [
    "## Part c"
   ]
  },
  {
   "cell_type": "markdown",
   "metadata": {},
   "source": [
    "$$\\int _{-1}^1\\int _{-1}^1e^{-6 x^2+10 x y-6 y^2}dxdy=0.86787$$\n",
    "\n",
    "$$\\int_{Tcut}^\\infty f_s(T)dT = \\int re^{-r^2(6-10\\cos\\theta\\sin\\theta)} dr d\\theta$$\n"
   ]
  },
  {
   "cell_type": "code",
   "execution_count": 79,
   "metadata": {
    "collapsed": false
   },
   "outputs": [],
   "source": [
    "def fs_polar(r,theta):\n",
    "    cosa = 6-5*np.sin(2*theta)\n",
    "    return r*np.exp(-r**2*cosa)/0.86787 #Divide by 0.86 to get normalized function   \n",
    "\n",
    "def fs_xy_not_normed(y,x):\n",
    "    cosa = -6*(x**2+y**2)+10*x*y\n",
    "    return np.exp(cosa)\n",
    "\n",
    "norm = pyint.dblquad(fs_xy_not_normed,-1,1,lambda x: -1,lambda x: 1)[0]\n",
    "\n",
    "def fs_xy(y,x):\n",
    "    cosa = -6*(x**2+y**2)+10*x*y\n",
    "    return np.exp(cosa)/norm"
   ]
  },
  {
   "cell_type": "code",
   "execution_count": 100,
   "metadata": {
    "collapsed": false
   },
   "outputs": [
    {
     "name": "stdout",
     "output_type": "stream",
     "text": [
      "(1.0, 1.2394915710084006e-08)\n"
     ]
    }
   ],
   "source": [
    "print pyint.dblquad(fs_xy,-1,1,lambda x: -1,lambda x: 1) #The first output is 1, indicating that the function is properly normalized\n",
    "N = 50\n",
    "r1 = np.linspace(1e-6,1,N)\n",
    "r2 = np.linspace(1,np.sqrt(2),N)\n",
    "alpha1 = np.empty(N)\n",
    "alpha2 = np.empty(N)\n",
    "beta1 = np.empty(N)\n",
    "beta2 = np.empty(N)\n",
    "r0 = 0.6\n",
    "sigmar = 0.4\n",
    "int2zero = stat.norm.cdf(0,r0,sigmar)\n",
    "\n",
    "for i,r in enumerate(r1):\n",
    "    alpha1[i] =  1.-pyint.dblquad(fs_xy,-r,r,lambda x: -np.sqrt(r**2-x**2),lambda x: np.sqrt(r**2-x**2))[0]\n",
    "    beta1[i] = stat.norm.cdf(r,r0,sigmar)-int2zero\n",
    "\n",
    "for i,r in enumerate(r2):\n",
    "    plus_quadrant = 2.*pyint.dblquad(fs_xy,np.sqrt(r**2-1),1,lambda x: np.sqrt(r**2-x**2),lambda x: 1)[0]\n",
    "    minus_quadrant = 2.*pyint.dblquad(fs_xy,np.sqrt(r**2-1),1,lambda x: -np.sqrt(r**2-x**2),lambda x: -1)[0]\n",
    "    alpha2[i] =  plus_quadrant+minus_quadrant\n",
    "    beta2[i] = stat.norm.cdf(r,r0,sigmar)-int2zero\n"
   ]
  },
  {
   "cell_type": "code",
   "execution_count": 105,
   "metadata": {
    "collapsed": false
   },
   "outputs": [
    {
     "data": {
      "image/png": "[encoded data removed]",
      "text/plain": [
       "<matplotlib.figure.Figure at 0x1a1a3e8290>"
      ]
     },
     "metadata": {},
     "output_type": "display_data"
    },
    {
     "data": {
      "image/png": "[encoded data removed]",
      "text/plain": [
       "<matplotlib.figure.Figure at 0x1a1a87c4d0>"
      ]
     },
     "metadata": {},
     "output_type": "display_data"
    },
    {
     "data": {
      "image/png": "[encoded data removed]",
      "text/plain": [
       "<matplotlib.figure.Figure at 0x1a1af00e50>"
      ]
     },
     "metadata": {},
     "output_type": "display_data"
    }
   ],
   "source": [
    "alpha = np.concatenate((alpha1,alpha2),axis=0)\n",
    "beta = np.concatenate((beta1,beta2),axis=0)\n",
    "r = np.concatenate((r1,r2),axis=0)\n",
    "plt.plot(r,1-alpha,'.')\n",
    "plt.xlabel('r')\n",
    "plt.ylabel(r'$\\alpha$')\n",
    "plt.grid(True)\n",
    "plt.figure()\n",
    "plt.plot(r,beta,'.')\n",
    "plt.xlabel('r')\n",
    "plt.ylabel(r'$\\beta$')\n",
    "plt.grid(True)\n",
    "plt.figure()\n",
    "plt.plot(r,(1-alpha)/np.sqrt(beta),'.')\n",
    "plt.xlabel('r')\n",
    "plt.ylabel(r'$\\frac{1-\\alpha}{\\sqrt{\\beta}}$')\n",
    "plt.grid(True)"
   ]
  },
  {
   "cell_type": "markdown",
   "metadata": {},
   "source": [
    "#### a.2) Fischer discriminant"
   ]
  },
  {
   "cell_type": "code",
   "execution_count": 16,
   "metadata": {
    "collapsed": false
   },
   "outputs": [
    {
     "name": "stderr",
     "output_type": "stream",
     "text": [
      "C:\\Users\\Oriol\\Anaconda2\\lib\\site-packages\\ipykernel_launcher.py:1: RuntimeWarning: divide by zero encountered in divide\n",
      "  \"\"\"Entry point for launching an IPython kernel.\n"
     ]
    }
   ],
   "source": [
    "trainSignalTheta = np.arctan(trainSignalY/trainSignalX)\n",
    "trainBkgTheta = np.arctan(trainBkgY/trainBkgX)\n",
    "def Fischer_a2(sample,a):\n",
    "    T = np.dot(a,sample)\n",
    "    return T"
   ]
  },
  {
   "cell_type": "code",
   "execution_count": null,
   "metadata": {
    "collapsed": true
   },
   "outputs": [],
   "source": []
  }
 ],
 "metadata": {
  "kernelspec": {
   "display_name": "Python 2",
   "language": "python",
   "name": "python2"
  },
  "language_info": {
   "codemirror_mode": {
    "name": "ipython",
    "version": 2
   },
   "file_extension": ".py",
   "mimetype": "text/x-python",
   "name": "python",
   "nbconvert_exporter": "python",
   "pygments_lexer": "ipython2",
   "version": "2.7.13"
  }
 },
 "nbformat": 4,
 "nbformat_minor": 2
}
