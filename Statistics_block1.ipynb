{
 "cells": [
  {
   "cell_type": "markdown",
   "metadata": {},
   "source": [
    "# Statistics and Probability\n",
    "## First Block\n",
    "\n",
    "We have the following p.d.f. $\\frac{d\\Gamma}{d\\cos\\theta}$ with a parameter $P_{\\mu} \\in [-1,1]$\n",
    "\n",
    "$$\n",
    "\\frac{d\\Gamma}{d\\cos\\theta}=\\frac{1}{2}\\big(1-\\frac{1}{3}P_{\\mu}\\cos\\theta\\big)\n",
    "$$\n",
    "\n",
    "The variable $\\theta$ represents the angle between the muon and electron polarizations, thus $\\theta \\in [-\\pi,0]$ which means that $\\cos \\theta \\in [-1,1]$. It can be checked that this function fulfills all the conditions in order to be a p.d.f. \n",
    "\n",
    "#### 1. Positive Semi-Defined Function\n",
    "Both $P_{\\mu}$ and $\\cos \\theta$ are constrained in the interval $[-1,1]$. Therefore:\n",
    "\n",
    "\\begin{eqnarray}\n",
    "\\frac{1}{2}\\big(1-\\frac{1}{3}\\big) \\leqslant & \\frac{1}{2}\\big(1-\\frac{1}{3}P_{\\mu}\\cos\\theta\\big) & \\leqslant \\frac{1}{2}\\big(1-\\frac{-1}{3}\\big) \\\\\n",
    "\\frac{1}{3} \\leqslant & \\frac{1}{2}\\big(1-\\frac{1}{3}P_{\\mu}\\cos\\theta\\big) & \\leqslant \\frac{2}{3}\n",
    "\\end{eqnarray}\n",
    "\n",
    "\n",
    "#### 2. Normalized Function\n",
    "To simplify the calculations, we will use $\\cos \\theta$ as our variable. \n",
    "\n",
    "\\begin{eqnarray}\n",
    "\\int_{-1}^{1} \\frac{1}{2}\\big(1-\\frac{1}{3}P_{\\mu}\\cos\\theta\\big) d\\cos\\theta = \\frac{1}{2}\\int_{-1}^{1} d\\cos\\theta -\\frac{1}{6}P_{\\mu}\\int_{-1}^{1} \\cos\\theta d\\cos\\theta = \\Big[\\frac{1}{2}\\cos\\theta-\\frac{1}{12}P_{\\mu}\\cos^2\\theta \\Big]_{-1}^{1}=\\frac{1}{2}(1-(-1))-\\frac{1}{12}P_{\\mu}(1-(-1)^2)=1\n",
    "\\end{eqnarray}\n"
   ]
  },
  {
   "cell_type": "markdown",
   "metadata": {},
   "source": [
    "#### 3. Plot of the PDF\n",
    "Let's now plot the normalized differential probability density function $\\frac{d\\Gamma}{d\\cos\\theta}$. First, we will initialize several Python libraries which we be useful during this problem set. "
   ]
  },
  {
   "cell_type": "code",
   "execution_count": 155,
   "metadata": {
    "collapsed": true
   },
   "outputs": [],
   "source": [
    "# sets the plots to be embedded in the notebook\n",
    "%matplotlib inline \n",
    "\n",
    "# Import useful python libraries \n",
    "import numpy as np # library to work with arrays\n",
    "import matplotlib.pyplot as plt # plotting library (all weird commands starting with plt., ax., fig. are matplotlib\n",
    "                                # they are not important, the define plots and set labels, axis...)\n",
    "import random # (pseudo-)random numbers generation\n",
    "import scipy.stats as stat # extra statistical functions (the basic are included in numpy)"
   ]
  },
  {
   "cell_type": "markdown",
   "metadata": {},
   "source": [
    "Define the $\\frac{d\\Gamma}{d\\cos\\theta}$ function, using the angle $\\theta$ and the muon polarization $P_{\\mu}$ as input variables:"
   ]
  },
  {
   "cell_type": "code",
   "execution_count": 156,
   "metadata": {
    "collapsed": true
   },
   "outputs": [],
   "source": [
    "def gamma(cost,Pmu):\n",
    "    dg=.5*(1-Pmu*cost/3)\n",
    "    return dg"
   ]
  },
  {
   "cell_type": "markdown",
   "metadata": {},
   "source": [
    "We are now ready to plot the $d\\Gamma$ probability density function."
   ]
  },
  {
   "cell_type": "code",
   "execution_count": 157,
   "metadata": {
    "collapsed": false
   },
   "outputs": [
    {
     "data": {
      "text/plain": [
       "<matplotlib.text.Text at 0x11ede3890>"
      ]
     },
     "execution_count": 157,
     "metadata": {},
     "output_type": "execute_result"
    },
    {
     "data": {
      "image/png": "[encoded data removed]",
      "text/plain": [
       "<matplotlib.figure.Figure at 0x11705aa10>"
      ]
     },
     "metadata": {},
     "output_type": "display_data"
    }
   ],
   "source": [
    "# Define parameters\n",
    "Pmu=0.3\n",
    "# Define plot variables\n",
    "cost=np.linspace(-1,1,201)\n",
    "dG=gamma(cost,Pmu)\n",
    "# Plot\n",
    "fig=plt.figure(1)\n",
    "ax=fig.add_subplot(111)\n",
    "ax.plot(cost,dG)\n",
    "ax.set_title('$d\\Gamma$ probability density function')\n",
    "ax.set_xlabel(r'$\\cos\\theta$')\n",
    "ax.set_ylabel('$d\\Gamma$')"
   ]
  },
  {
   "cell_type": "markdown",
   "metadata": {},
   "source": [
    "[Mariona]: I've never really used the ax. command because it increases the \n",
    "complexity of the code quite significantly. I've written below how i'd personally plot the figure, which consists on using the regular plt. command. If you try it out, you'll see we get the same results!: "
   ]
  },
  {
   "cell_type": "code",
   "execution_count": 158,
   "metadata": {
    "collapsed": false
   },
   "outputs": [
    {
     "data": {
      "text/plain": [
       "\"\\nplt.figure(1)\\nplt.plot(cost, dG)\\nplt.title('$d\\\\Gamma$ probability density function')\\nplt.xlabel(r'$\\\\cos\\theta$')\\nplt.ylabel('$d\\\\Gamma$')\\n\""
      ]
     },
     "execution_count": 158,
     "metadata": {},
     "output_type": "execute_result"
    }
   ],
   "source": [
    "'''\n",
    "plt.figure(1)\n",
    "plt.plot(cost, dG)\n",
    "plt.title('$d\\Gamma$ probability density function')\n",
    "plt.xlabel(r'$\\cos\\theta$')\n",
    "plt.ylabel('$d\\Gamma$')\n",
    "'''"
   ]
  },
  {
   "cell_type": "markdown",
   "metadata": {},
   "source": [
    "# 2. Build a Monte Carlo able to generate this PDF \n"
   ]
  },
  {
   "cell_type": "markdown",
   "metadata": {},
   "source": [
    "[Oriol]: Nota sobre python y los bucles: Python es muy bonito y simple, pero se le atragantan un poco los bucles. Por suerte, numpy esta hecho en C, cosa que agiliza muchísimo la ejecución. Tanto en el try-teject como en el inverse function hay una comparación. Teneis que descomentar el timeit para ver la comparación de tiempo y comentarlo para poderlo ejecutar correctamente."
   ]
  },
  {
   "cell_type": "markdown",
   "metadata": {},
   "source": [
    "### Try-Reject p.d.f generation\n",
    "\n",
    "We will construct our Monte Carlo with the Try-Reject method."
   ]
  },
  {
   "cell_type": "markdown",
   "metadata": {},
   "source": [
    "Without using Numpy explicitly:"
   ]
  },
  {
   "cell_type": "code",
   "execution_count": 159,
   "metadata": {
    "collapsed": true
   },
   "outputs": [],
   "source": [
    "#%%timeit # returns the elapsed time when executing the cell, it executes the cell more than once, \n",
    "         # thus, it should only be uncommented when desired\n",
    "# Montecarlo try-reject\n",
    "N=10000000 \n",
    "# Define fmax\n",
    "# The goal is to have the lowest fmax possible in order to increase the efficiency of the try-reject, knowing \n",
    "# the shape of the p.d.f. this can be trivially done, because we know its maximum value must be either at 1 or -1\n",
    "fmax=max(gamma(-1,Pmu),gamma(1,Pmu))\n",
    "\n",
    "Xi1=np.empty(N) # Declaring an array instead of making it grow inside a loop speeds a lot the computation time\n",
    "i=0\n",
    "while i<N:\n",
    "    # 1st step of the try reject, choose a point inside the area [a,b]x[0,fmax]\n",
    "    r=random.random()\n",
    "    x=-1+2*r\n",
    "    y=random.random()*fmax\n",
    "    # 2nd step, check if it is inside the p.d.f. area and save x€[a,b] to Xi1, otherwise, reject it\n",
    "    if gamma(x,Pmu)>=y:\n",
    "        Xi1[i]=x\n",
    "        i+=1"
   ]
  },
  {
   "cell_type": "markdown",
   "metadata": {},
   "source": [
    "Using Numpy:"
   ]
  },
  {
   "cell_type": "code",
   "execution_count": 160,
   "metadata": {
    "collapsed": true
   },
   "outputs": [],
   "source": [
    "#%%timeit\n",
    "N=10000000\n",
    "# 1st step of the try reject, choose a point inside the area [a,b]x[0,fmax]\n",
    "# now, all N desired number are generated at once with numpy, thus, as some of them will be rejected, 2*N \n",
    "# random numbers are generated\n",
    "x=-1+2*np.random.random(2*N)           \n",
    "y=fmax*np.random.random(2*N)\n",
    "# 2nd step, check if it is inside the p.d.f. area and save x€[a,b] to Xi1, otherwise, reject it\n",
    "# in addition, as  2*N were generated in order to be safe and less than N x values will have been rejected\n",
    "# a sample of size N must be chosen in order to compare with the other methods.\n",
    "Xi2=x[y<=gamma(x,Pmu)][:N]"
   ]
  },
  {
   "cell_type": "markdown",
   "metadata": {},
   "source": [
    "Plot the results of the Try-Reject Method:"
   ]
  },
  {
   "cell_type": "code",
   "execution_count": 161,
   "metadata": {
    "collapsed": false
   },
   "outputs": [
    {
     "data": {
      "text/plain": [
       "(0.4, 0.6)"
      ]
     },
     "execution_count": 161,
     "metadata": {},
     "output_type": "execute_result"
    },
    {
     "data": {
      "image/png": "[encoded data removed]",
      "text/plain": [
       "<matplotlib.figure.Figure at 0x1208364d0>"
      ]
     },
     "metadata": {},
     "output_type": "display_data"
    }
   ],
   "source": [
    "fig=plt.figure(2)\n",
    "ax=fig.add_subplot(111)\n",
    "ax.hist(Xi1,color='b',normed=1,bins=50,label='Montecarlo p.d.f.')\n",
    "ax.hist(Xi2,color='g',normed=1,bins=50,label='Montecarlo p.d.f.',alpha=0.6)\n",
    "ax.plot(cost,dG,'r--',linewidth=2,label='Theoretical')\n",
    "ax.set_title('Try-reject Monte Carlo generated $d\\Gamma$ p.d.f.')\n",
    "ax.set_xlabel(r'$\\cos\\theta$')\n",
    "ax.set_ylabel('$d\\Gamma$')\n",
    "ax.legend()\n",
    "ax.set_ylim([0.4,0.6])"
   ]
  },
  {
   "cell_type": "markdown",
   "metadata": {},
   "source": [
    "### Inverse function p.d.f. generation\n",
    "To generate a p.d.f via the inverse method we need the inverse of the cumulative function. The cumulative function was found in the first question while checking that the p.d.f. was normalized, thus:\n",
    "\n",
    "$$\n",
    "F(\\cos\\theta)=\\Big[\\frac{1}{2}z-\\frac{1}{12}P_{\\mu}z^2 \\Big]_{-1}^{\\cos\\theta}=\\frac{1}{2}(\\cos\\theta+1)-\\frac{1}{12}P_{\\mu}(\\cos^2\\theta-1) \n",
    "$$\n",
    "\n",
    "$$\n",
    "\\frac{P_{\\mu}}{12}\\cos^2\\theta-\\frac{\\cos\\theta}{2}+r-\\frac{1}{2}-\\frac{P_{\\mu}}{12}=0 \\quad \\rightarrow \\quad F^{-1}(r)=\\cos\\theta=\\frac{3}{P_{\\mu}}\\pm \\frac{6}{P_{\\mu}}\\sqrt{\\frac{1}{4}-\\frac{P_{\\mu}}{3}(r-\\frac{1}{2}-\\frac{P_{\\mu}}{12})}\n",
    "$$"
   ]
  },
  {
   "cell_type": "code",
   "execution_count": 162,
   "metadata": {
    "collapsed": true
   },
   "outputs": [],
   "source": [
    "# Inverse function F^{-1}(r) implemented in Python\n",
    "def Finv(r,Pmu): \n",
    "    # its arguments are:\n",
    "    #     r   : either int, float or np.array. Must be a value between 0 and 1\n",
    "    #     Pmu : either int, float or np.array, its shape must be compatible with r in case of arrays\n",
    "    cost=(3.-6.*np.sqrt(.25-Pmu/3.*(r-.5-Pmu/12)))/Pmu\n",
    "    return cost"
   ]
  },
  {
   "cell_type": "markdown",
   "metadata": {},
   "source": [
    "(without numpy explicitely)"
   ]
  },
  {
   "cell_type": "code",
   "execution_count": 163,
   "metadata": {
    "collapsed": true
   },
   "outputs": [],
   "source": [
    "#%%timeit\n",
    "N=10000000\n",
    "Xinv1=np.empty(N)\n",
    "for i in xrange(N):\n",
    "    r=random.random()\n",
    "    Xinv1[i]=Finv(r,Pmu)"
   ]
  },
  {
   "cell_type": "markdown",
   "metadata": {},
   "source": [
    "(with numpy magic)"
   ]
  },
  {
   "cell_type": "code",
   "execution_count": 164,
   "metadata": {
    "collapsed": true
   },
   "outputs": [],
   "source": [
    "# Montecarlo inverse function\n",
    "def Montecarlo_inv_fun(Pmu,N=1000000):\n",
    "    # its arguments are:\n",
    "    #     Pmu : np.array containing the value or values of Pmu for which the pdf will be generated\n",
    "    # Optional arguments:\n",
    "    #     N   : int, number of values in the pdf sample\n",
    "    \n",
    "    m=len(Pmu)\n",
    "    #v.1\n",
    "    PmuV=np.array([Pmu]) #Transform Pmu into an 1xm matrix so that it matches the dimensions of r (Nxm)\n",
    "    r=np.random.random((N,m))\n",
    "    #v.2\n",
    "    #PmuV=np.empty((m,1))\n",
    "    #PmuV[:,0]=Pmu\n",
    "    #r=np.random.random((m,N))\n",
    "    Xinv = Finv(r,PmuV)\n",
    "    return Xinv"
   ]
  },
  {
   "cell_type": "code",
   "execution_count": 165,
   "metadata": {
    "collapsed": false
   },
   "outputs": [],
   "source": [
    "Xinv2=Montecarlo_inv_fun(np.array([Pmu]),10000000)[:,0] \n",
    "# Now, in order to make the function compatible with arrays, Pmu must be reshaped into a np.array and \n",
    "# afterwards, the obtained sample is converted from Nx1 matrix to vector of length N"
   ]
  },
  {
   "cell_type": "markdown",
   "metadata": {},
   "source": [
    "[Oriol] The execution time of the code without using numpy own methods is 18 seconds, whereas knowing numpy reduces it to 0.45 seconds (results with my computer with many things opened)"
   ]
  },
  {
   "cell_type": "code",
   "execution_count": 166,
   "metadata": {
    "collapsed": false
   },
   "outputs": [
    {
     "data": {
      "text/plain": [
       "(0.4, 0.6)"
      ]
     },
     "execution_count": 166,
     "metadata": {},
     "output_type": "execute_result"
    },
    {
     "data": {
      "image/png": "[encoded data removed]",
      "text/plain": [
       "<matplotlib.figure.Figure at 0x121ac1bd0>"
      ]
     },
     "metadata": {},
     "output_type": "display_data"
    }
   ],
   "source": [
    "#Plot for the inverse function method\n",
    "fig=plt.figure(2)\n",
    "ax=fig.add_subplot(111)\n",
    "ax.hist(Xinv1,color='b',normed=1,bins=50,label='Montecarlo p.d.f.')\n",
    "ax.hist(Xinv2,color='g',normed=1,bins=50,label='Montecarlo p.d.f.',alpha=0.6)\n",
    "ax.plot(cost,dG,'r--',linewidth=2,label='Theoretical')\n",
    "ax.set_title('Inverse function montecarlo generated $d\\Gamma$ p.d.f.')\n",
    "ax.set_xlabel(r'$\\cos\\theta$')\n",
    "ax.set_ylabel('$d\\Gamma$')\n",
    "ax.legend()\n",
    "ax.set_ylim([0.4,0.6])"
   ]
  },
  {
   "cell_type": "markdown",
   "metadata": {},
   "source": [
    "### Estimate distribution parameters\n",
    "In this section, the rellevant parameters of the p.d.f. will be estimated from the montecarlo generated sample. To be able to compare this values, the theoretical values will also be obtained:\n",
    "\n",
    "$$\n",
    "\\int_{-1}^{1} \\frac{1}{2}\\big(1-\\frac{1}{3}P_{\\mu}\\cos\\theta\\big) \\cos\\theta d\\cos\\theta = \\Big[\\frac{\\cos^2\\theta}{4}-\\frac{P_{\\mu}}{6}\\frac{\\cos^3\\theta}{3}\\Big]_{-1}^{1}=\\frac{-P_{\\mu}}{9}\n",
    "$$"
   ]
  },
  {
   "cell_type": "code",
   "execution_count": 167,
   "metadata": {
    "collapsed": false
   },
   "outputs": [
    {
     "name": "stdout",
     "output_type": "stream",
     "text": [
      "The try-reject montecarlo generated distribution has:\n",
      "\tmean = -0.033301,\n",
      "\tsigma = 0.576403,\n",
      "\tskewness = 0.068875\n",
      "\tand kurtosis = -1.192177\n"
     ]
    }
   ],
   "source": [
    "mu=np.mean(Xinv2)\n",
    "sigma=np.std(Xinv2) # equivalent to np.sqrt(np.var(Xi1))\n",
    "skewness=stat.skew(Xinv2)\n",
    "kurtosis=stat.kurtosis(Xinv2)\n",
    "\n",
    "print 'The try-reject montecarlo generated distribution has:\\n\\tmean = %.6f,\\n\\t\\\n",
    "sigma = %.6f,\\n\\tskewness = %.6f\\n\\tand kurtosis = %.6f' %(mu, sigma, skewness, kurtosis)"
   ]
  },
  {
   "cell_type": "markdown",
   "metadata": {
    "collapsed": true
   },
   "source": [
    "# Part 3\n",
    "The $\\frac{d\\Gamma}{d\\cos\\theta}$ mean depends on the polarisation $P_{\\mu}$ in a simple manner: theoretical mean = -$P_{\\mu}$/9. \n",
    "\n",
    "### 3.1. Show that the Monte Carlo predicts this dependency by changing the value of $P_{\\mu}$"
   ]
  },
  {
   "cell_type": "code",
   "execution_count": 168,
   "metadata": {
    "collapsed": false
   },
   "outputs": [],
   "source": [
    "N=int(1e7)\n",
    "PmuVec=np.linspace(-1,1,30)  # array of Pmu valus for which the pdf sample will be generated\n",
    "X=Montecarlo_inv_fun(PmuVec,N) # call Montecarlo_inv_fun, which returns a matrix, containing N x values\n",
    "# following the pdf of each Pmu in PmuVec\n",
    "mu=np.mean(X,axis=0) # estimate the mean for each Pmu, thus, the result is a vector of the same length as PmuVec \n",
    "muTh=-PmuVec/9. # calculate the theoretical mean for each Pmu"
   ]
  },
  {
   "cell_type": "code",
   "execution_count": 169,
   "metadata": {
    "collapsed": false
   },
   "outputs": [
    {
     "data": {
      "text/plain": [
       "<matplotlib.legend.Legend at 0x12b9d7990>"
      ]
     },
     "execution_count": 169,
     "metadata": {},
     "output_type": "execute_result"
    },
    {
     "data": {
      "image/png": "[encoded data removed]",
      "text/plain": [
       "<matplotlib.figure.Figure at 0x121a66250>"
      ]
     },
     "metadata": {},
     "output_type": "display_data"
    }
   ],
   "source": [
    "fig=plt.figure(1)\n",
    "ax=fig.add_subplot(111)\n",
    "ax.plot(PmuVec,mu,'ro',PmuVec,muTh,'b--')\n",
    "ax.set_title('$P_{\\mu}$ p.d.f. dependency')\n",
    "ax.set_xlabel(r'$P_{\\mu}$')\n",
    "ax.set_ylabel('$\\mu$')\n",
    "ax.legend(['Estimated mean','Theoretical mean'])"
   ]
  },
  {
   "cell_type": "markdown",
   "metadata": {},
   "source": [
    "### 3.2. What is the variance of the parameter $P_{\\mu}$? Compute it numerically using Monte Carlo techniques for a given $P_{\\mu}$ value."
   ]
  },
  {
   "cell_type": "markdown",
   "metadata": {},
   "source": [
    "Perform Monte Carlo simulation for a given Pmu value (called \"Pmu_chosen_value\") and sample size. We will obtain a vector $X = \\{x_{1}, x_{2}, ...., x_{N}\\}$"
   ]
  },
  {
   "cell_type": "code",
   "execution_count": 170,
   "metadata": {
    "collapsed": false
   },
   "outputs": [],
   "source": [
    "sample_size = int(1e5)\n",
    "Pmu_chosen_value = 0.5 #Choose a value of Pmu for this exercise\n",
    "vec_length = 50  # Choose the length of the array \"get_PmuVec\"\n",
    "get_PmuVec = np.ones(vec_length)*Pmu_chosen_value  # Create vector with length = 50 filled with a given Pmu value from which the pdf sample will be generated\n",
    "\n",
    "get_Pmus = Montecarlo_inv_fun(get_PmuVec, sample_size) # call Montecarlo_inv_fun, which returns a matrix with dimensions (sample_size X vec_length), containing x values\n",
    "# following the pdf of each Pmu_chosen_value in get_PmuVec"
   ]
  },
  {
   "cell_type": "markdown",
   "metadata": {},
   "source": [
    "Calculate the variance of the estimated Pmu both with the estimated mu and the theoretical mu and compare them."
   ]
  },
  {
   "cell_type": "code",
   "execution_count": 171,
   "metadata": {
    "collapsed": false
   },
   "outputs": [
    {
     "name": "stdout",
     "output_type": "stream",
     "text": [
      "0.000246184258479\n",
      "0.00024548659804\n"
     ]
    }
   ],
   "source": [
    "estimated_mean = np.mean(get_Pmus, axis=0) #Get estimated mean \n",
    "estimated_Pmu = -9*estimated_mean  # estimate the mean for each Pmu. The result is a vector of the same length as PmuVec \n",
    "variance1 = np.var(estimated_Pmu, ddof = 1) #Estimate the variance of the estimated Pmu. The \"ddof\" is used so that the division is not done as 1/N but as 1/N-1\n",
    "variance2 = (sum((estimated_Pmu-Pmu_chosen_value)**2))/vec_length \n",
    "print variance1 \n",
    "print variance2 "
   ]
  },
  {
   "cell_type": "markdown",
   "metadata": {},
   "source": [
    "We define the variance as: $$Var(X)=E[(x-\\mu)^{2}]$$ \n",
    "\n",
    "With the `sum` command, we are obtaining the variance with: $$\\overline{Var}=\\frac{1}{N}\\sum(P_{i}-\\mu)^{2}$$ where $\\mu$ is the theoretical mean. In this case, we have chosen a specific value for Pmu (Pmu_chosen_value = 0.5), so the theoretical mean will simply correspond to this value. \n",
    "\n",
    "With the `np.var` command, we are calculating the variance with equation: $$\\overline{Var}=\\frac{1}{N-1}\\sum(P_{i}-\\overline{x})$$ \n",
    "\n",
    "where $\\bar{x}$ is the estimated mean, i.e. $\\bar{x}=\\frac{1}{N}\\sum x_{i}$. Note that `np.var` accepts \"delta Degrees of freedom\" (ddof) which refers to the factor $1/N-\\text{ddof}$. We chose $ddof = 1$ so that the division would be as 1/N-1, instead of 1/N.\n",
    "\n",
    "\n",
    " "
   ]
  },
  {
   "cell_type": "markdown",
   "metadata": {},
   "source": [
    "# Part 4\n",
    "Generate a continuous series of N events using the Monte Carlo and compute the mean of the distribution and the estimated $P_{\\mu}$ as 9*mean. \n",
    "\n",
    "### 4.1. Show that the $P_{\\mu}$ tends to the true evalue as predicted by the law of large numbers"
   ]
  },
  {
   "cell_type": "code",
   "execution_count": 172,
   "metadata": {
    "collapsed": false
   },
   "outputs": [],
   "source": [
    "Pmu_chosen_value = 0.5 #Choose a value of Pmu for this exercise\n",
    "vec_length = 50  # Choose the length of the array \"get_PmuVec\"\n",
    "get_PmuVec = np.ones(vec_length)*Pmu_chosen_value  # Create vector with length = 50 filled with a given Pmu value from which the pdf sample will be generated\n",
    "num_samples = 20 \n",
    "sample_sizes = np.logspace(start = 1, stop = 6.5, num = num_samples, dtype=int) #num refers to the nº of points generated between start and stop\n",
    "\n",
    "estimated_Pmus = np.empty(num_samples)\n",
    "    \n",
    "for i,sample_size in enumerate(sample_sizes):\n",
    "    get_Pmus = Montecarlo_inv_fun(get_PmuVec, sample_size) \n",
    "    estimated_mean = np.mean(get_Pmus, axis = 0) #Get estimated mean \n",
    "    estimated_Pmus[i] = -9*np.mean(estimated_mean)  # estimate the mean for each Pmu. The result is a vector of the same length as PmuVec "
   ]
  },
  {
   "cell_type": "code",
   "execution_count": 173,
   "metadata": {
    "collapsed": false
   },
   "outputs": [
    {
     "data": {
      "text/plain": [
       "<matplotlib.legend.Legend at 0x1145aac90>"
      ]
     },
     "execution_count": 173,
     "metadata": {},
     "output_type": "execute_result"
    },
    {
     "data": {
      "image/png": "[encoded data removed]",
      "text/plain": [
       "<matplotlib.figure.Figure at 0x11705a090>"
      ]
     },
     "metadata": {},
     "output_type": "display_data"
    }
   ],
   "source": [
    "fig = plt.figure()\n",
    "ax = fig.add_subplot(111)\n",
    "ax.semilogx(sample_sizes,estimated_Pmus,'ro',sample_sizes,Pmu_chosen_value*np.ones(num_samples),'b--')\n",
    "ax.set_title('Proof of the Law of Large Numbers')\n",
    "ax.set_xlabel('Sample size')\n",
    "ax.set_ylabel('Estimated $P_{\\mu}$')\n",
    "ax.legend(['Estimated mean','Theoretical mean'],loc=3)"
   ]
  },
  {
   "cell_type": "markdown",
   "metadata": {
    "collapsed": true
   },
   "source": [
    "As we can see from the plot, the estimated mean resulting from the first iterations is not very accurate, but as the sample size increases, the estimated mean approaches the theoretical mean --as predicted by the Law of Large Numbers. "
   ]
  },
  {
   "cell_type": "markdown",
   "metadata": {},
   "source": [
    "For each given number of trials, we will now plot the residuals between the estimated and the theoretical means."
   ]
  },
  {
   "cell_type": "code",
   "execution_count": 174,
   "metadata": {
    "collapsed": false
   },
   "outputs": [
    {
     "data": {
      "text/plain": [
       "<matplotlib.text.Text at 0x12b8fb8d0>"
      ]
     },
     "execution_count": 174,
     "metadata": {},
     "output_type": "execute_result"
    },
    {
     "data": {
      "image/png": "[encoded data removed]",
      "text/plain": [
       "<matplotlib.figure.Figure at 0x12b7109d0>"
      ]
     },
     "metadata": {},
     "output_type": "display_data"
    }
   ],
   "source": [
    "fig = plt.figure()\n",
    "ax = fig.add_subplot(111)\n",
    "ax.loglog(sample_sizes, np.abs(estimated_Pmus-Pmu_chosen_value),'ro') #Move the two axes to logarithmic space \n",
    "ax.set_title('Residuals')\n",
    "ax.set_xlabel('Sample Size')\n",
    "ax.set_ylabel('Estimated - Theoretical $P_{\\mu}$')"
   ]
  },
  {
   "cell_type": "markdown",
   "metadata": {},
   "source": [
    "ATENCION: Intentar demostrar LLN sin generar cada vez la muestra\n",
    "[Oriol]: Ya he cambiado el código para que no resetee la muestra cada vez. Al empezar a hacerlo directament siguiendo los pasos que tenia en la cabeza he hecho esta primera celda, que de momento dejo porque creo que se entiende mejor (o almenos alguien lo puede entender mejor). Lo que hago es:\n",
    "1. Generar un vector de N componentes\n",
    "2. Dividirlo en m tramos (de longitud N/m cadascuno) y hacer la media de cada tramo\n",
    "3. Calcular la suma cumulativa y dividirla por el numero de celda para obtener la media de los valores anteriores a este.\n",
    "    - Es decir, en el vector cumulative_Pmus, el valor en la posicion i es la media de los (i+1)*N/m primeros valores de la muestra\n",
    "    \n",
    "Esta version tarda 10 segundos aprox para hacer este calculo con $N=10^8$ y $m=5\\times10^6$, es decir calcular la media cada 20."
   ]
  },
  {
   "cell_type": "code",
   "execution_count": 175,
   "metadata": {
    "collapsed": false
   },
   "outputs": [],
   "source": [
    "#%%timeit\n",
    "# Here we demonstrate the law of large numbers without reseting the sample\n",
    "Pmu_41 = 0.5 #Choose a value of Pmu for this exercise\n",
    "sample_size_41 = int(1e8) # Size of the sample, then, to estimate the LLN we will use the first m \n",
    "                          # to calculate the mean, then the first 2m and so on\n",
    "m = int(5e6) # Divide the Pmu means vector (of size vec_length_41) into m elements, thus, its legth will be \n",
    "X_sample_41 = Montecarlo_inv_fun(np.array([Pmu_41]), sample_size_41)[:,0]\n",
    "X_divided = np.array(np.split(X_sample_41,m))\n",
    "partial_means = np.mean(X_divided,axis=1)\n",
    "N_vec = np.arange(1,m+1)\n",
    "cumulative_Pmus = -9*np.cumsum(partial_means)/N_vec\n",
    "N_vec = sample_size_41/m*N_vec"
   ]
  },
  {
   "cell_type": "markdown",
   "metadata": {},
   "source": [
    "Como la generacion de numeros aleatorios se hace de manera independiente, y nuesto MC trabaja con arrays bidimensionales, podemos entrar los parámetros de manera que el propio montecarlo nos devuelva la matriz Nxm del paso 2 de la explicación.\n",
    "\n",
    "De este modo, para los mismos N i m, el código tarda 4 segundos."
   ]
  },
  {
   "cell_type": "code",
   "execution_count": 176,
   "metadata": {
    "collapsed": false
   },
   "outputs": [],
   "source": [
    "#%%timeit\n",
    "# After I did the above cell, I realized that taking into account how we have defined the MC, \n",
    "# it can be done in a simpler way thanks to the fact that the random numbers we generate are independent\n",
    "Pmu_41 = 0.5 #Choose a value of Pmu for this exercise\n",
    "sample_size_41 = int(1e8) # Size of the sample, then, to estimate the LLN we will use the first m \n",
    "                          # to calculate the mean, then the first 2m and so on\n",
    "m = int(5e6) # Divide the Pmu means vector (of size vec_length_41) into m elements, thus, its legth will be \n",
    "X_sample_41 = Montecarlo_inv_fun(np.ones(sample_size_41/m)*Pmu_41, m)\n",
    "partial_means = np.mean(X_sample_41,axis=1)\n",
    "N_vec = np.arange(1,m+1)\n",
    "cumulative_Pmus = -9*np.cumsum(partial_means)/N_vec\n",
    "N_vec = sample_size_41/m*N_vec"
   ]
  },
  {
   "cell_type": "code",
   "execution_count": 177,
   "metadata": {
    "collapsed": false
   },
   "outputs": [
    {
     "data": {
      "text/plain": [
       "<matplotlib.legend.Legend at 0x121b1b490>"
      ]
     },
     "execution_count": 177,
     "metadata": {},
     "output_type": "execute_result"
    },
    {
     "data": {
      "image/png": "[encoded data removed]",
      "text/plain": [
       "<matplotlib.figure.Figure at 0x12b765d50>"
      ]
     },
     "metadata": {},
     "output_type": "display_data"
    }
   ],
   "source": [
    "fig = plt.figure()\n",
    "ax = fig.add_subplot(111)\n",
    "ax.semilogx(N_vec,cumulative_Pmus,'b-',alpha=0.7)\n",
    "ax.semilogx(N_vec,np.ones(m)*Pmu_41,'k')\n",
    "ax.set_title('Proof of the Law of Large Numbers')\n",
    "ax.set_xlabel('Sample size')\n",
    "ax.set_ylabel('Estimated $P_{\\mu}$')\n",
    "ax.legend(['Estimated mean','Theoretical mean'],loc='best')"
   ]
  },
  {
   "cell_type": "markdown",
   "metadata": {},
   "source": [
    "## Part 5\n",
    "Generate several Monte Carlo experiments, each with N events."
   ]
  },
  {
   "cell_type": "markdown",
   "metadata": {},
   "source": [
    "### 5.1. Build for each experiment the student's t variable for $P_{\\mu}$ and show that it follows the Student's t distribution"
   ]
  },
  {
   "cell_type": "code",
   "execution_count": 178,
   "metadata": {
    "collapsed": false
   },
   "outputs": [],
   "source": [
    "N = 15 # number of samples for each montecarlo experiment\n",
    "Pmu_chosen_value = 0.5 #Choose a value of Pmu for this exercise\n",
    "mu_t=-Pmu_chosen_value/9.\n",
    "num_repetitions = 15 # number of times the N x num_MC_experiments MC_samples matrix is generated\n",
    "num_MC_experiments = 500000  # Choose the number of MC experiments to generate (it will be the # of t values in our histogram)\n",
    "PmuVec_t = np.ones(num_MC_experiments)*Pmu_chosen_value  # Create vector with length = num_MC_experiments filled with a given Pmu value from which the pdf sample will be generated\n",
    "t_values = np.empty(num_repetitions*num_MC_experiments)\n",
    "\n",
    "for repeat in xrange(num_repetitions):\n",
    "    MC_samples = Montecarlo_inv_fun(PmuVec_t, N) # matrix N x num_MC_experiments\n",
    "    x_bar = np.mean(MC_samples, axis=0) #Get estimated mean\n",
    "    s_square = np.var(MC_samples, axis=0, ddof=1) #Get estimated variance (sigma^2)\n",
    "    t_values[repeat*num_MC_experiments:(repeat+1)*num_MC_experiments] = np.sqrt(N/s_square)*(x_bar-mu_t)"
   ]
  },
  {
   "cell_type": "code",
   "execution_count": 179,
   "metadata": {
    "collapsed": false
   },
   "outputs": [
    {
     "data": {
      "text/plain": [
       "<matplotlib.legend.Legend at 0x12b933250>"
      ]
     },
     "execution_count": 179,
     "metadata": {},
     "output_type": "execute_result"
    },
    {
     "data": {
      "image/png": "[encoded data removed]",
      "text/plain": [
       "<matplotlib.figure.Figure at 0x1147b3650>"
      ]
     },
     "metadata": {},
     "output_type": "display_data"
    }
   ],
   "source": [
    "fig = plt.figure()\n",
    "ax = fig.add_subplot(111)\n",
    "lim_prob = 0.001\n",
    "grid_num = 100\n",
    "x = np.linspace(stat.t.ppf(lim_prob, N), stat.t.ppf(1-lim_prob, N), grid_num)\n",
    "ax.plot(x, stat.t.pdf(x, N), 'r-', label='t pdf (Theoretical)')\n",
    "ax.hist(t_values,color='b',normed=1, bins = 20,label='Montecarlo p.d.f.')\n",
    "ax.legend(loc=2)"
   ]
  },
  {
   "cell_type": "markdown",
   "metadata": {},
   "source": [
    "Calculate the moments of the distribution:"
   ]
  },
  {
   "cell_type": "code",
   "execution_count": 180,
   "metadata": {
    "collapsed": false
   },
   "outputs": [
    {
     "name": "stdout",
     "output_type": "stream",
     "text": [
      "\tmean = -0.018197,\n",
      "\tsigma = 1.091173,\n",
      "\tskewness = -0.120256\n",
      "\tand kurtosis = 1.171666\n"
     ]
    }
   ],
   "source": [
    "mu_t = np.mean(t_values)\n",
    "sigma_t = np.std(t_values) # equivalent to np.sqrt(np.var(Xi1))\n",
    "skewness_t =stat.skew(t_values)\n",
    "kurtosis_t =stat.kurtosis(t_values)\n",
    "\n",
    "print '\\tmean = %.6f,\\n\\t\\\n",
    "sigma = %.6f,\\n\\tskewness = %.6f\\n\\tand kurtosis = %.6f' %(mu_t, sigma_t, skewness_t, kurtosis_t)"
   ]
  },
  {
   "cell_type": "markdown",
   "metadata": {},
   "source": [
    "For the values to follow a Gaussian distribution, the skewness factor would have to be 0 (sknewness measures symmetry, and Gaussian is 100% symmetrical), and the kurtosis factor would also have to be 0. Since none of these parameters is 0, the distribution is not Gaussian."
   ]
  },
  {
   "cell_type": "markdown",
   "metadata": {},
   "source": [
    "### 5.2. Show the validity of the Cetral Limit Theorem"
   ]
  },
  {
   "cell_type": "code",
   "execution_count": 181,
   "metadata": {
    "collapsed": false
   },
   "outputs": [],
   "source": [
    "N_clt = int(1e6)\n",
    "\n",
    "Pmu_chosen_value = 0.5 #Choose a value of Pmu for this exercise\n",
    "mu_t=-Pmu_chosen_value/9.\n",
    "num_repetitions = 15 # number of times the N x num_MC_experiments MC_samples matrix is generated\n",
    "num_MC_experiments = 200  # Choose the number of MC experiments to generate (it will be the # of t values in our histogram)\n",
    "PmuVec_t = np.ones(num_MC_experiments)*Pmu_chosen_value  # Create vector with length = num_MC_experiments filled with a given Pmu value from which the pdf sample will be generated\n",
    "clt_values = np.empty(num_repetitions*num_MC_experiments)\n",
    "\n",
    "for repeat in xrange(num_repetitions):\n",
    "    MC_samples = Montecarlo_inv_fun(PmuVec_t, N_clt) # matrix N x num_MC_experiments\n",
    "    x_bar = np.mean(MC_samples, axis=0) #Get estimated mean\n",
    "    s_square = np.var(MC_samples, axis=0, ddof=1) #Get estimated variance (sigma^2)\n",
    "    clt_values[repeat*num_MC_experiments:(repeat+1)*num_MC_experiments] = np.sqrt(N_clt/s_square)*(x_bar-mu_t)\n"
   ]
  },
  {
   "cell_type": "code",
   "execution_count": 182,
   "metadata": {
    "collapsed": false
   },
   "outputs": [
    {
     "data": {
      "text/plain": [
       "<matplotlib.legend.Legend at 0x119f84590>"
      ]
     },
     "execution_count": 182,
     "metadata": {},
     "output_type": "execute_result"
    },
    {
     "data": {
      "image/png": "[encoded data removed]",
      "text/plain": [
       "<matplotlib.figure.Figure at 0x1145c39d0>"
      ]
     },
     "metadata": {},
     "output_type": "display_data"
    }
   ],
   "source": [
    "# Expected gaussian pdf\n",
    "mu = 0\n",
    "sigma = 1\n",
    "dist = stat.norm(mu, sigma)\n",
    "x_pdf = np.linspace(-4, 4, 1000)\n",
    "\n",
    "#Plot distributions\n",
    "fig = plt.figure()\n",
    "ax = fig.add_subplot(111)\n",
    "lim_prob = 0.001\n",
    "grid_num = 100\n",
    "x = np.linspace(stat.t.ppf(lim_prob, N_clt), stat.t.ppf(1-lim_prob, N_clt), grid_num)\n",
    "ax.plot(x, stat.t.pdf(x, N_clt), 'r-', lw=5, alpha=0.5, label='t pdf (Theoretical)')\n",
    "ax.hist(clt_values,color='b',normed=1,bins=30,label='Montecarlo p.d.f.')\n",
    "ax.plot(x_pdf, dist.pdf(x_pdf), '-k', label = 'Gaussian')\n",
    "ax.legend()"
   ]
  },
  {
   "cell_type": "markdown",
   "metadata": {},
   "source": [
    "Calculate the moments of the distribution:"
   ]
  },
  {
   "cell_type": "code",
   "execution_count": 183,
   "metadata": {
    "collapsed": false
   },
   "outputs": [
    {
     "name": "stdout",
     "output_type": "stream",
     "text": [
      "\tmean = -0.016917,\n",
      "\tsigma = 1.017799,\n",
      "\tskewness = -0.017016\n",
      "\tand kurtosis = -0.016471\n"
     ]
    }
   ],
   "source": [
    "mu_clt = np.mean(clt_values)\n",
    "sigma_clt = np.std(clt_values) \n",
    "skewness_clt =stat.skew(clt_values)\n",
    "kurtosis_clt =stat.kurtosis(clt_values)\n",
    "\n",
    "print '\\tmean = %.6f,\\n\\t\\\n",
    "sigma = %.6f,\\n\\tskewness = %.6f\\n\\tand kurtosis = %.6f' %(mu_clt, sigma_clt, skewness_clt, kurtosis_clt)"
   ]
  },
  {
   "cell_type": "markdown",
   "metadata": {},
   "source": [
    "Both the skewness and kurtosis factors are approximately zero, which implies the distribution is Gaussian."
   ]
  },
  {
   "cell_type": "markdown",
   "metadata": {},
   "source": [
    "### Part 6\n",
    "\n",
    "Generate N random events according to the probability density function $\\frac{d\\Gamma}{d\\cos\\theta}$ and fill the obtained $\\cos\\theta$ values in a histogram. "
   ]
  },
  {
   "cell_type": "code",
   "execution_count": 184,
   "metadata": {
    "collapsed": false
   },
   "outputs": [
    {
     "data": {
      "text/plain": [
       "<matplotlib.legend.Legend at 0x11a2886d0>"
      ]
     },
     "execution_count": 184,
     "metadata": {},
     "output_type": "execute_result"
    },
    {
     "data": {
      "image/png": "[encoded data removed]",
      "text/plain": [
       "<matplotlib.figure.Figure at 0x1145ca810>"
      ]
     },
     "metadata": {},
     "output_type": "display_data"
    }
   ],
   "source": [
    "Pmu = 0.3  \n",
    "num_sample_values = 1000\n",
    "\n",
    "Xinv6 = Montecarlo_inv_fun(np.array([Pmu]),num_sample_values)[:,0] #Run Montecarlo with Pmu as a fixed parameter\n",
    "\n",
    "fig = plt.figure()\n",
    "ax = fig.add_subplot(111)\n",
    "\n",
    "# Create the histogram (note: it's NOT normalized)\n",
    "N_bin, bins, lis = ax.hist(Xinv6,color='b',bins=10,label='Montecarlo p.d.f.') \n",
    "# N_bin is an array containing the values of the histogram bins\n",
    "# bins is an array with the edges of the bins.\n",
    "# The last parameter will not be used here. \n",
    "\n",
    "ax.set_title('Inverse function montecarlo generated $d\\Gamma$ p.d.f.')\n",
    "ax.set_xlabel(r'$\\cos\\theta$')\n",
    "ax.set_ylabel('$d\\Gamma$')\n",
    "ax.legend()\n"
   ]
  },
  {
   "cell_type": "markdown",
   "metadata": {},
   "source": [
    "### 6.1. What is the probability density function associated to the number of entries per bin?"
   ]
  },
  {
   "cell_type": "markdown",
   "metadata": {},
   "source": [
    "Pasos del algoritmo 6.1:\n",
    "- Generar `num_sample` mustras de $\\cos\\theta$ siguiendo la pdf del enunciado con MC\n",
    "- Hacer el histograma\n",
    "- Guardar el valor de entradas en el primer bin (podria ser cualquier bin), lo llamamos `binomy`\n",
    "- Repetir los tres primeros pasos `binomial_sample` veces\n",
    "- Comprovar que las muestras guardadas en `binomy` siguen una binomial de $N$ "
   ]
  },
  {
   "cell_type": "code",
   "execution_count": 185,
   "metadata": {
    "collapsed": false
   },
   "outputs": [],
   "source": [
    "num_sample = 100\n",
    "binomial_sample = 10000  \n",
    "Pmu_chosen_value = -0.3\n",
    "bin_number = 4\n",
    "PmuVec_61 = np.ones(binomial_sample)*Pmu_chosen_value  # Create vector with length = num_MC_experiments filled with a given Pmu value from which the pdf sample will be generated\n",
    "\n",
    "X_61 = Montecarlo_inv_fun(PmuVec_61,num_sample) #Run Montecarlo with Pmu as a fixed parameter\n",
    "N_61 = np.empty(binomial_sample)\n",
    "\n",
    "for i in xrange(binomial_sample):\n",
    "    hist, bin_edges = np.histogram(X_61[:,i],range=(-1,1)) # fixing the range to -1, 1 avoids the bins to start at the minimum \n",
    "    # of the sample which would be min(X_61) (around -0.98 but not -1)\n",
    "    N_61[i] = hist[bin_number-1]\n",
    "    "
   ]
  },
  {
   "cell_type": "markdown",
   "metadata": {},
   "source": [
    "The left and right position of the bins (from the first to the last one) are contained in the \"bin_edges\" vector. In the cell above, we chose to study the first bin (`bin_number`=1), and to calculate the probability that a point falls within it, we have to select bin_edge[1] rather than bin_edge[0] (as choosing bin_edge[0] would yield probability equal to 0)."
   ]
  },
  {
   "cell_type": "code",
   "execution_count": 186,
   "metadata": {
    "collapsed": false
   },
   "outputs": [
    {
     "data": {
      "text/plain": [
       "array([-1. , -0.8, -0.6, -0.4, -0.2,  0. ,  0.2,  0.4,  0.6,  0.8,  1. ])"
      ]
     },
     "execution_count": 186,
     "metadata": {},
     "output_type": "execute_result"
    }
   ],
   "source": [
    "bin_edges"
   ]
  },
  {
   "cell_type": "markdown",
   "metadata": {},
   "source": [
    "We can use the cumulative function to calculate the probability that a point falls within the bin."
   ]
  },
  {
   "cell_type": "code",
   "execution_count": 187,
   "metadata": {
    "collapsed": true
   },
   "outputs": [],
   "source": [
    "def Fcumulative(cost,Pmu): # Cumulative function\n",
    "    F=.5*(cost+1)-Pmu/12.*(cost**2-1)\n",
    "    return F"
   ]
  },
  {
   "cell_type": "markdown",
   "metadata": {},
   "source": [
    "Plot the binominal distribution on top the histogram for bin `bin_number` "
   ]
  },
  {
   "cell_type": "code",
   "execution_count": 188,
   "metadata": {
    "collapsed": false
   },
   "outputs": [
    {
     "data": {
      "text/plain": [
       "<matplotlib.legend.Legend at 0x11a48af90>"
      ]
     },
     "execution_count": 188,
     "metadata": {},
     "output_type": "execute_result"
    },
    {
     "data": {
      "image/png": "[encoded data removed]",
      "text/plain": [
       "<matplotlib.figure.Figure at 0x121bfcd90>"
      ]
     },
     "metadata": {},
     "output_type": "display_data"
    }
   ],
   "source": [
    "ki=np.arange(num_sample)\n",
    "fig = plt.figure()\n",
    "ax = fig.add_subplot(111)\n",
    "ax.hist(N_61,color='b',bins=10,normed=1,label='Montecarlo p.d.f.')\n",
    "Prob_bin = Fcumulative(bin_edges[bin_number],Pmu_chosen_value)-Fcumulative(bin_edges[bin_number-1],Pmu_chosen_value)\n",
    "ax.plot(ki,stat.binom.pmf(ki,num_sample,Prob_bin),'r--')\n",
    "\n",
    "ax.set_title('Binomial distribution and Histogram for \"bin_number\" bin')\n",
    "ax.set_xlabel('Number of entries in bin \"bin_number\"')\n",
    "ax.set_ylabel('Number of succesful events (normalized)')\n",
    "ax.legend()"
   ]
  },
  {
   "cell_type": "markdown",
   "metadata": {},
   "source": [
    "As shown in this exercise, when the number of values in the sample `num_sample` is fixed, the entries in a given bin follow a binomial distribution. By extension, the number of entries of a given bin with respect to each of the others follows a multinomial distribution.\n",
    "\n",
    "If the number of entries for the experiment is not fixed, the distribution of the events in the bins follows a Poisson.  \n",
    "\n",
    "In any case, when the number of entries is very large, the multinominal distribution will behave as a Poisson. And what's more: based on the Central Theorem, this Poisson will in turn tend to a Gaussian."
   ]
  },
  {
   "cell_type": "markdown",
   "metadata": {},
   "source": [
    "### 6.2. What is the expected pdf for the number of entries per bin when the number N is very large?"
   ]
  },
  {
   "cell_type": "code",
   "execution_count": 189,
   "metadata": {
    "collapsed": true
   },
   "outputs": [],
   "source": [
    "num_sample = int(5e5)\n",
    "binomial_sample = 1000  \n",
    "Pmu_chosen_value = -0.3\n",
    "bin_number = 1\n",
    "PmuVec_62 = np.ones(binomial_sample)*Pmu_chosen_value  # Create vector with length = num_MC_experiments \n",
    "                                #filled with a given Pmu value from which the pdf sample will be generated\n",
    "\n",
    "X_62 = Montecarlo_inv_fun(PmuVec_62,num_sample) #Run Montecarlo with Pmu as a fixed parameter\n",
    "N_62 = np.empty(binomial_sample)\n",
    "\n",
    "for i in xrange(binomial_sample):\n",
    "    hist, bin_edges = np.histogram(X_62[:,i],range=(-1,1)) # fixing the range to -1, 1 avoids the bins to start at \n",
    "                                     #the minimum of the sample which would be min(X_62) (around -0.98 but not -1)\n",
    "    N_62[i] = hist[bin_number-1]"
   ]
  },
  {
   "cell_type": "code",
   "execution_count": 190,
   "metadata": {
    "collapsed": false
   },
   "outputs": [
    {
     "data": {
      "text/plain": [
       "<matplotlib.legend.Legend at 0x11c52e2d0>"
      ]
     },
     "execution_count": 190,
     "metadata": {},
     "output_type": "execute_result"
    },
    {
     "data": {
      "image/png": "[encoded data removed]",
      "text/plain": [
       "<matplotlib.figure.Figure at 0x115752dd0>"
      ]
     },
     "metadata": {},
     "output_type": "display_data"
    }
   ],
   "source": [
    "ki=np.arange(num_sample)\n",
    "\n",
    "# Expected gaussian pdf\n",
    "plot_center_value = Prob_bin*num_sample\n",
    "sigma_gaussian = np.sqrt(Prob_bin*num_sample*(1-Prob_bin))\n",
    "dist = stat.norm(0, 1)\n",
    "\n",
    "# Shift and scale the histogram with respect to the estimated values. NOTE: Since we cannot generate infinite samples, \n",
    "# we'll use np.mean and np.std instead of using the real values given by the theoretical distribution. This is likely\n",
    "# to have an impact when shifting. \n",
    "ki = (ki-np.mean(N_62))/np.std(N_62)\n",
    "N_62 = (N_62-np.mean(N_62))/np.std(N_62)\n",
    "x_pdf= np.linspace(-4,4,1000)\n",
    "\n",
    "fig = plt.figure()\n",
    "ax = fig.add_subplot(111)\n",
    "ax.hist(N_62,color='b',bins=20,normed=1,label='Montecarlo p.d.f.')\n",
    "Prob_bin = Fcumulative(bin_edges[bin_number],Pmu_chosen_value)-Fcumulative(bin_edges[bin_number-1],Pmu_chosen_value)\n",
    "ax.plot(ki,stat.binom.pmf(ki,num_sample,Prob_bin),'r--')\n",
    "ax.plot(x_pdf, dist.pdf(x_pdf), '-k', label = 'Gaussian')\n",
    "\n",
    "ax.set_title('Binomial distribution tending to a Gaussian and Histogram for \"bin_number\" bin')\n",
    "ax.set_xlabel('Number of entries in bin \"bin_number\"')\n",
    "ax.set_ylabel('Number of succesful events (normalized)')\n",
    "ax.set_xlim([-4,4])\n",
    "ax.legend()"
   ]
  },
  {
   "cell_type": "markdown",
   "metadata": {},
   "source": [
    "Calculate the moments of the N_62 vector"
   ]
  },
  {
   "cell_type": "code",
   "execution_count": 191,
   "metadata": {
    "collapsed": false
   },
   "outputs": [
    {
     "name": "stdout",
     "output_type": "stream",
     "text": [
      "\tmean = 0.000000,\n",
      "\tsigma = 1.000000,\n",
      "\tskewness = 0.028970\n",
      "\tand kurtosis = -0.100399\n"
     ]
    }
   ],
   "source": [
    "mu_62 = np.mean(N_62)\n",
    "sigma_62 = np.std(N_62) \n",
    "skewness_62 =stat.skew(N_62)\n",
    "kurtosis_62 =stat.kurtosis(N_62)\n",
    "\n",
    "print '\\tmean = %.6f,\\n\\t\\\n",
    "sigma = %.6f,\\n\\tskewness = %.6f\\n\\tand kurtosis = %.6f' %(mu_62, \n",
    "sigma_62, skewness_62, kurtosis_62)"
   ]
  },
  {
   "cell_type": "markdown",
   "metadata": {},
   "source": [
    "Mean and sigma give 0 and 1 respectively since we have rescaled the N_62 vector. The skewness and kurtosis parameters are approximately 0, which is indicative of a gaussian."
   ]
  },
  {
   "cell_type": "markdown",
   "metadata": {},
   "source": [
    "### 6.3. Show that the $\\chi^{2}$ of the obtained numbers per bin follows a $\\chi^{2}$ distribution. To simplify, you shall use the nominal value obtained from the pdf formula per bin as the central value in the bin "
   ]
  },
  {
   "cell_type": "markdown",
   "metadata": {},
   "source": [
    "Use procedure explained in section 6.1"
   ]
  },
  {
   "cell_type": "code",
   "execution_count": 192,
   "metadata": {
    "collapsed": true
   },
   "outputs": [],
   "source": [
    "num_sample_63 = 10000\n",
    "chisquared_sample = 1000 # Number of times we will call the MC function -- the higher this value, the better will the \n",
    "                         #theorical Chi squared distribution describe the \"observed\" one   \n",
    "Pmu_chosen_value = -0.3\n",
    "bin_number_63 = 5\n",
    "PmuVec_63 = np.ones(chisquared_sample)*Pmu_chosen_value  # Create vector with length = num_MC_experiments filled with a given Pmu value from which the pdf sample will be generated\n",
    "\n",
    "X_63 = Montecarlo_inv_fun(PmuVec_63, num_sample_63) #Run Montecarlo with Pmu as a fixed parameter"
   ]
  },
  {
   "cell_type": "markdown",
   "metadata": {},
   "source": [
    "We will calculate the mean by multiplying the probability that a value falls within a given bin times the sample number. To this end, we will create a vector `mean` where we will store the $\\mu$ of each bin, and use the cumulative function within two bin edges to obtain the probability, `Prob_bin_63`.  \n",
    "\n"
   ]
  },
  {
   "cell_type": "code",
   "execution_count": 193,
   "metadata": {
    "collapsed": false
   },
   "outputs": [],
   "source": [
    "mean_63 = np.empty(bin_number_63)\n",
    "bin_edges_63 = np.linspace(-1,1,bin_number_63+1) # Note that the dimensions of this parameter are 1x(bin_number+1), since we have \n",
    "                                           # to take into account the left-most and right-most bin\n",
    "\n",
    "Prob_bin_63 = Fcumulative(bin_edges_63[1:], Pmu_chosen_value)-Fcumulative(bin_edges_63[:-1],Pmu_chosen_value)\n",
    "\n",
    "mean_63 = Prob_bin_63*num_sample_63 #This will be our mu for each bin."
   ]
  },
  {
   "cell_type": "markdown",
   "metadata": {},
   "source": [
    "Compute the chi squared for each MC run. "
   ]
  },
  {
   "cell_type": "code",
   "execution_count": 194,
   "metadata": {
    "collapsed": false
   },
   "outputs": [],
   "source": [
    "chi_squared_values = np.empty(chisquared_sample)\n",
    "\n",
    "for i in xrange(chisquared_sample):\n",
    "    hist, bin_edges = np.histogram(X_63[:,i],range=(-1,1), bins = bin_number_63) # fixing the range to -1, 1 avoids the bins to start at the minimum \n",
    "    # of the sample which would be min(X_63) (around -0.98 but not -1)\n",
    " \n",
    "    chi_squared_values[i] = np.sum((hist-mean_63)**2/(mean_63*(1-Prob_bin_63)))\n",
    "    "
   ]
  },
  {
   "cell_type": "markdown",
   "metadata": {},
   "source": [
    "Plot the $\\chi_{^2}$ distribution."
   ]
  },
  {
   "cell_type": "code",
   "execution_count": 195,
   "metadata": {
    "collapsed": false
   },
   "outputs": [
    {
     "data": {
      "text/plain": [
       "<matplotlib.legend.Legend at 0x12b855e90>"
      ]
     },
     "execution_count": 195,
     "metadata": {},
     "output_type": "execute_result"
    },
    {
     "data": {
      "image/png": "[encoded data removed]",
      "text/plain": [
       "<matplotlib.figure.Figure at 0x11a3b3090>"
      ]
     },
     "metadata": {},
     "output_type": "display_data"
    }
   ],
   "source": [
    "x_pdf_chisquared = np.linspace(min(chi_squared_values),max(chi_squared_values),1000)\n",
    "\n",
    "fig = plt.figure()\n",
    "ax = fig.add_subplot(111)\n",
    "ax.hist(chi_squared_values,color='b', bins=15,normed=1,label = '$\\chi_{^2}$ values')\n",
    "ax.plot(x_pdf_chisquared,stat.chi2.pdf(x_pdf_chisquared,bin_number_63),'r--',lw=2, label = '$\\chi_{^2}$ distribution (theoretical)')\n",
    "\n",
    "ax.set_title('Expected and Observed Distribution')\n",
    "ax.set_xlabel('Chi Squared values')\n",
    "ax.legend()"
   ]
  },
  {
   "cell_type": "markdown",
   "metadata": {},
   "source": [
    "### 6.4. How does the $\\chi^{2}$ computed above change when you change the number of bins? "
   ]
  },
  {
   "cell_type": "markdown",
   "metadata": {
    "collapsed": true
   },
   "source": [
    "For this exercise, we can just modify the number of bins in 6.3 to obtain the new results.\n",
    "\n",
    "* As we increase the number of bins, we see that the observed distribution becomes more similar to a Gaussian (e.g. number of bins = 100 for a sample of 10000). Why? The chi-squared distribution depends ONLY on one parameter, k, which corresponds to the number of bins. If the size of the sample is large enough compared to the number of bins, then when we increase k and let it go to infinity, the Central Limit Theorem applies and the chi squared distribution tends to a Gaussian.\n",
    "\n",
    "* If we set the number of bins to a very small number --again, with a sample of 10000-- (e.g. 5), the resulting distribution will not look like a Gaussian at all. \n",
    "\n"
   ]
  },
  {
   "cell_type": "markdown",
   "metadata": {},
   "source": [
    "# Part 7"
   ]
  },
  {
   "cell_type": "markdown",
   "metadata": {},
   "source": [
    "### 7.1.Take one of the histograms generated in the previous step and construct the conditional probability, P(histogram|$P_{\\mu}$), of obtaining the entries in the obtained histogram for a given value of $P_{\\mu}$."
   ]
  },
  {
   "cell_type": "markdown",
   "metadata": {},
   "source": [
    "Known parameters:\n",
    "* pdf\n",
    "\n",
    "Steps:\n",
    "\n",
    "* Generate a sample of random numbers with Monte Carlo, with a $P_{\\mu}$ that will be \"unknown\" for the rest of the exercise.\n",
    "* Generate a histogram `hist` of the data (observed measurements). From now on, we assume we only know the theoretical pdf and that histogram.\n",
    "* We know that the bins of a histogram with fixed sample size behaves as a multinomial, thus, we know the function $P_{bin}(n_{i,obs};n_{bin},P_{\\mu-try})$ where $n_{i,obs}$ is the number of observations in bin i, and it depends on 2 parameters, the number of bins $n_{bin}$ and the $P_{\\mu_{try}}$. Therefore, we will say that the likelihood of obtaining `hist` for given $P_{\\mu_{try}}$ is:\n",
    "$$\n",
    "P(\\text{hist}|P_{\\mu_{try}})=\\prod_{i=1}^{n_{bin}} P_{bin}(\\text{hist[i]};n_{bin},P_{\\mu_{try}}) =n! \\prod_{i=1}^{n_{bin}} \\frac{p_i^{\\text{hist[i]}}}{\\text{hist[i]}!}\n",
    "$$\n",
    "\n",
    "     where $n$ is the sample size, `hist` is the array with our observed measurements and $p_i$ is the probability of an observation falling in bin $i$ (obtained from the theoretical pdf with $P_{\\mu}=P_{\\mu_{try}}$. The terms to the right of the last equal sign correspond to the expanded version of the multinomial distribution pmf.\n",
    "* Find the maximum of $P(\\text{hist}|P_{\\mu_{try}})$ numerically."
   ]
  },
  {
   "cell_type": "code",
   "execution_count": 327,
   "metadata": {
    "collapsed": false
   },
   "outputs": [],
   "source": [
    "'''STEP 1'''\n",
    "\n",
    "pmu_7 = 0.3\n",
    "sample_size_n = 100\n",
    "bin_number_7 = 15\n",
    "\n",
    "sample_7 = Montecarlo_inv_fun(np.array([pmu_7]), sample_size_n)[:,0]"
   ]
  },
  {
   "cell_type": "code",
   "execution_count": 328,
   "metadata": {
    "collapsed": false
   },
   "outputs": [
    {
     "data": {
      "text/plain": [
       "[<matplotlib.lines.Line2D at 0x11d944e90>]"
      ]
     },
     "execution_count": 328,
     "metadata": {},
     "output_type": "execute_result"
    },
    {
     "data": {
      "image/png": "[encoded data removed]",
      "text/plain": [
       "<matplotlib.figure.Figure at 0x11dde14d0>"
      ]
     },
     "metadata": {},
     "output_type": "display_data"
    }
   ],
   "source": [
    "'''STEP 2'''\n",
    "\n",
    "#Obtain the theoretical pdf \n",
    "dG = gamma(cost,pmu_7)\n",
    "\n",
    "#Plot the histogram and the theoretical distribution\n",
    "fig = plt.figure()\n",
    "ax = fig.add_subplot(111)\n",
    "ax.hist(sample_7,color='b', bins = bin_number_7,normed=1,label = 'Sample values')\n",
    "ax.plot(cost, dG, label = 'Theoretical pdf')"
   ]
  },
  {
   "cell_type": "code",
   "execution_count": 329,
   "metadata": {
    "collapsed": false
   },
   "outputs": [
    {
     "data": {
      "text/plain": [
       "[<matplotlib.lines.Line2D at 0x11dac0910>]"
      ]
     },
     "execution_count": 329,
     "metadata": {},
     "output_type": "execute_result"
    },
    {
     "data": {
      "image/png": "[encoded data removed]",
      "text/plain": [
       "<matplotlib.figure.Figure at 0x11d9ebdd0>"
      ]
     },
     "metadata": {},
     "output_type": "display_data"
    }
   ],
   "source": [
    "''' STEP 3'''\n",
    "\n",
    "from scipy.misc import factorial\n",
    "hist_7, bin_edges_7 = np.histogram(sample_7,range=(-1,1), bins = bin_number_7)\n",
    "\n",
    "#Define the likelihood function\n",
    "def likelihood(pmu_try, hist_values):\n",
    "    n_bin = len(hist_values)\n",
    "    N = sum(hist_values)\n",
    "    bin_edges = np.linspace(-1, 1, n_bin+1)\n",
    "    Prob_bin = Fcumulative(bin_edges[1:], pmu_try) - Fcumulative(bin_edges[:-1], pmu_try)\n",
    "    \n",
    "    # This is the theoretical likelihood as defined in the comment above. Since the values that we obtain are very\n",
    "    # small, we have decided to work with the logarithm of this function.\n",
    "    '''\n",
    "    nfact = factorial(len(hist_values))\n",
    "    num = np.power(Prob_bin_7,hist_values)\n",
    "    den = factorial(hist_values)\n",
    "    likelihood = nfact*np.prod(num/den)\n",
    "    '''\n",
    "    term1 = np.log(factorial(N))\n",
    "    term2 = np.sum(hist_values*np.log(Prob_bin))\n",
    "    term3 = np.sum(np.log(factorial(hist_values)))\n",
    "    likelihood = (term1 + term2 - term3)*-1 #we multiply by -1 bc the log likelihood should be negative so that we can minimize\n",
    "    #print '%g+%g-%g=%g' %(term1,term2,term3,likelihood)\n",
    "    return likelihood\n",
    "\n",
    "pmu_grid = np.linspace(-1,1,20) \n",
    "like = np.ones(len(pmu_grid))\n",
    "\n",
    "for i,pmu in enumerate(pmu_grid):\n",
    "    like[i] = likelihood(pmu, hist_7)\n",
    "    \n",
    "plt.plot(pmu_grid, like,'.')"
   ]
  },
  {
   "cell_type": "code",
   "execution_count": 333,
   "metadata": {
    "collapsed": false
   },
   "outputs": [
    {
     "name": "stdout",
     "output_type": "stream",
     "text": [
      "ML estimate of Pmu: 0.0475744755174\n",
      "0.514761971697\n",
      "0.515297554784\n",
      "Mean estimate of Pmu: 0.118751943428\n",
      "Standard Deviation: 0.580356600705\n"
     ]
    }
   ],
   "source": [
    "import scipy.optimize as opt\n",
    "res = opt.minimize(fun=likelihood, x0=0, args=(hist_7))\n",
    "Pmu_ML = res.x[0]\n",
    "print 'ML estimate of Pmu:', Pmu_ML\n",
    "L_ML = likelihood(Pmu_ML,hist_7)\n",
    "fun_var = lambda Pmu : likelihood(Pmu,hist_7)-L_ML-0.5\n",
    "print opt.fsolve(fun_var,Pmu_ML+1)[0]-Pmu_ML\n",
    "print Pmu_ML-opt.fsolve(fun_var,Pmu_ML-1)[0]\n",
    "print 'Mean estimate of Pmu:', -9*np.mean(sample_7)\n",
    "print 'Standard Deviation:', np.std(sample_7)"
   ]
  },
  {
   "cell_type": "markdown",
   "metadata": {},
   "source": [
    "### 7.2. Find the most probable value of $P_{\\mu}$ used to generate the histogram using the conditional probability  P(histogram|$P_{\\mu}$)"
   ]
  },
  {
   "cell_type": "code",
   "execution_count": null,
   "metadata": {
    "collapsed": true
   },
   "outputs": [],
   "source": []
  }
 ],
 "metadata": {
  "anaconda-cloud": {},
  "kernelspec": {
   "display_name": "Python 2",
   "language": "python",
   "name": "python2"
  },
  "language_info": {
   "codemirror_mode": {
    "name": "ipython",
    "version": 2
   },
   "file_extension": ".py",
   "mimetype": "text/x-python",
   "name": "python",
   "nbconvert_exporter": "python",
   "pygments_lexer": "ipython2",
   "version": "2.7.11"
  }
 },
 "nbformat": 4,
 "nbformat_minor": 1
}
