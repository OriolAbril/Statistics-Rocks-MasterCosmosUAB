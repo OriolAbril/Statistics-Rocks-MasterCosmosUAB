{
 "cells": [
  {
   "cell_type": "markdown",
   "metadata": {},
   "source": [
    "# Introduction to Ipython notebook"
   ]
  },
  {
   "cell_type": "markdown",
   "metadata": {},
   "source": [
    "The Ipython notebook is an enviroment that can combine code, execution, text and plots, in the style of Matlab, Mathematica, or Maple.\n",
    "\n",
    "The nice thing of these last three is that they provide a notebook environment. You can have it also in Python.\n",
    "\n",
    "The backend is a python kernel server, to which connects a client in the browser by means of HTTP web protocols.\n",
    "\n",
    "Code typed in sent to the kernel, executed there, and the results returned back to the browser client."
   ]
  },
  {
   "cell_type": "markdown",
   "metadata": {},
   "source": [
    "To start ipython we can use the command line\n",
    "\n",
    "    jupyter notebook\n",
    "    \n",
    "Or the Launcher\n",
    "\n",
    "<img src=\"./Images/Screen Shot 2015-09-08 at 10.23.54.png\" width=\"700\">\n"
   ]
  },
  {
   "cell_type": "markdown",
   "metadata": {},
   "source": [
    "After starting Ipython, we are presented with a navigator, in which we can select the folder and file we want to edit or start a new notebook.\n",
    "\n",
    "<img src=\"./Images/Screen Shot 2015-09-08 at 10.26.25.png\" width=\"700\">\n",
    "\n"
   ]
  },
  {
   "cell_type": "markdown",
   "metadata": {},
   "source": [
    "In an Ipython notebook, the input is divided in cells, that can contain text, in Markdown mode, or python code input, in code cells.\n",
    "\n",
    "This is a markdown cell with text. To see the raw content, double click on it. To *render* it, we execute the cell pressing Shift + Intro"
   ]
  },
  {
   "cell_type": "code",
   "execution_count": null,
   "metadata": {
    "collapsed": false
   },
   "outputs": [],
   "source": [
    "# This is a comment\n",
    "# This is code cell, we execute it pressing also Shift + Intro\n",
    "\n",
    "print 1+2"
   ]
  },
  {
   "cell_type": "markdown",
   "metadata": {},
   "source": [
    "In the notebook we can execute cells with more than one line of code, in the style of matlab or mathematica"
   ]
  },
  {
   "cell_type": "code",
   "execution_count": null,
   "metadata": {
    "collapsed": false,
    "scrolled": true
   },
   "outputs": [],
   "source": [
    "a = 5\n",
    "b = 10\n",
    "\n",
    "print \"a + b = %d\" % (a + b)\n",
    "print \"a * b = %d\" % (a * b)"
   ]
  },
  {
   "cell_type": "markdown",
   "metadata": {},
   "source": [
    "In the menu we can find useful drop-down menus to perform simple tasks to edit our notebook. The best way to know them is to experiment\n",
    "\n",
    "Most important, the kernel menu, where we can kill the execution if we run intro trouble."
   ]
  },
  {
   "cell_type": "markdown",
   "metadata": {},
   "source": [
    "The use of the notebook allows to develop code faster in an exploratory way, writing small pieces successively, thus concentrating in the implementation of the algorithm, and not in the details of programming language.\n",
    "\n",
    "Running long codes from the notebook is however not advisable.\n",
    "\n",
    "We sould never thus forget to refactor our code into a standalone python program, encapsulating the different pieces of the algorithms in function or modules, to allow for reusability."
   ]
  },
  {
   "cell_type": "markdown",
   "metadata": {},
   "source": [
    "# Markdown essentials for documenting an Ipython notebook\n",
    "\n",
    "Here are some examples of formatting with markdown (click in the cell to see the markdown source):\n",
    "\n",
    "Headers:\n",
    "\n",
    "# Header 1\n",
    "## Header 2\n",
    "### Header 3\n",
    "###### Header 6\n",
    "\n",
    "Lists:\n",
    "\n",
    "*   Red\n",
    "*   Green\n",
    "*   Blue\n",
    "\n",
    "Nested lists:\n",
    "\n",
    "*   Red\n",
    "    - Strawberry, cherry\n",
    "*   Green\n",
    "    - Apple, pear\n",
    "*   Blue\n",
    "    - None\n",
    "        - As far as I know\n",
    "        \n",
    "Ordered lists:\n",
    "\n",
    "1.  Bird\n",
    "2.  McHale\n",
    "3.  Parish\n",
    " \n",
    "\n",
    "Code blocks:\n",
    "\n",
    "    for i in xrange(1000):\n",
    "        print i\n",
    "        \n",
    "        \n",
    "Inline code:\n",
    "\n",
    "Use the `printf()` function.\n",
    "\n",
    "Horizontal rules:\n",
    "\n",
    "***\n",
    "\n",
    "- - -\n",
    "\n",
    "_______\n",
    "\n",
    "HTML links:\n",
    "\n",
    "This is [an example](http://example.com/ \"Title\") inline link.\n",
    "\n",
    "Emphasis:\n",
    "\n",
    "*italics*\n",
    "\n",
    "_italics_\n",
    "\n",
    "**bold face**\n",
    "\n",
    "__bold face__"
   ]
  },
  {
   "cell_type": "markdown",
   "metadata": {},
   "source": [
    "# Inserting $\\LaTeX$ symbols\n",
    "\n",
    "One of the great improvements of ipython over simple markdown is that it allows to include latex expressions. This operation is performed by using MathJax to render LaTeX inside markdown.\n",
    "\n",
    "MathJax is installed by default in the anaconda distribution. It can handle regularly complex expressions, but take into account that it is not a full full latex intepreter.\n",
    "\n",
    "Let us see some examples:\n",
    "\n",
    "$$c = \\sqrt{a^2 + b^2}$$\n",
    "\n",
    "$$F(k) = \\int_{-\\infty}^{\\infty} f(x) e^{2\\pi i k} dx$$\n",
    "\n",
    "\\begin{eqnarray}\n",
    "\\nabla \\times \\vec{\\mathbf{B}} -\\, \\frac1c\\, \\frac{\\partial\\vec{\\mathbf{E}}}{\\partial t} & = \\frac{4\\pi}{c}\\vec{\\mathbf{j}} \\\\\n",
    "\\nabla \\cdot \\vec{\\mathbf{E}} & = 4 \\pi \\rho \\\\\n",
    "\\nabla \\times \\vec{\\mathbf{E}}\\, +\\, \\frac1c\\, \\frac{\\partial\\vec{\\mathbf{B}}}{\\partial t} & = \\vec{\\mathbf{0}} \\\\\n",
    "\\nabla \\cdot \\vec{\\mathbf{B}} & = 0 \n",
    "\\end{eqnarray}"
   ]
  },
  {
   "cell_type": "markdown",
   "metadata": {},
   "source": [
    "# Magic commands"
   ]
  },
  {
   "cell_type": "markdown",
   "metadata": {},
   "source": [
    "Ipython includes a number of \"magic\" commands, that offer increased functionality beyond python.\n",
    "\n",
    "Magic commands come on two flavors:\n",
    "\n",
    "* Line magic commands: Prefixed with the character '%'. They work as functions, with the rest of the line treated as arguments\n",
    "    \n",
    "* Cell magic commands: Prefixed with the character '%%'. The affect the behavior of the whole cell"
   ]
  },
  {
   "cell_type": "markdown",
   "metadata": {},
   "source": [
    "### Line magic commands\n",
    "\n",
    "* `%timeit`: Estimate the performance of a function, running it in a loop several times\n",
    "* `%edit`: Start the default editor to edit a file\n",
    "* `%automagic`: Make magic commands callable without the '%' character\n",
    "* `%magic`: Information on magic commands"
   ]
  },
  {
   "cell_type": "code",
   "execution_count": null,
   "metadata": {
    "collapsed": false
   },
   "outputs": [],
   "source": [
    "%lsmagic"
   ]
  },
  {
   "cell_type": "markdown",
   "metadata": {},
   "source": [
    "### Cell magic commands\n",
    "\n",
    "* `%%writefile` filename: Writes the contents of the cell into file `filename`\n",
    "* `%%timeit`: Benchmarks the execution of a whole cell\n"
   ]
  }
 ],
 "metadata": {
  "anaconda-cloud": {},
  "kernelspec": {
   "display_name": "Python [Root]",
   "language": "python",
   "name": "Python [Root]"
  },
  "language_info": {
   "codemirror_mode": {
    "name": "ipython",
    "version": 2
   },
   "file_extension": ".py",
   "mimetype": "text/x-python",
   "name": "python",
   "nbconvert_exporter": "python",
   "pygments_lexer": "ipython2",
   "version": "2.7.12"
  }
 },
 "nbformat": 4,
 "nbformat_minor": 0
}
